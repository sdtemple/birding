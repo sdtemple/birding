{
 "cells": [
  {
   "cell_type": "markdown",
   "id": "27c8f362",
   "metadata": {},
   "source": [
    "## This is starter code for single point prediction with CNNs"
   ]
  },
  {
   "cell_type": "code",
   "execution_count": 1,
   "id": "4d3eb762",
   "metadata": {},
   "outputs": [],
   "source": [
    "import os\n",
    "\n",
    "# common math imports\n",
    "import numpy as np\n",
    "import pandas as pd\n",
    "import matplotlib.pyplot as plt\n",
    "import seaborn as sns\n",
    "\n",
    "# common torch imports\n",
    "import torch\n",
    "import torch.nn as nn\n",
    "import torch.nn.functional as F\n",
    "import torch.optim as optim\n",
    "from torch.utils.data import DataLoader, TensorDataset\n",
    "\n",
    "# common sklearn imports \n",
    "from sklearn.model_selection import train_test_split\n",
    "from sklearn.preprocessing import LabelEncoder\n",
    "from sklearn.metrics import confusion_matrix, ConfusionMatrixDisplay"
   ]
  },
  {
   "cell_type": "markdown",
   "id": "e2be0c00",
   "metadata": {},
   "source": [
    "## Load and process data"
   ]
  },
  {
   "cell_type": "code",
   "execution_count": 2,
   "id": "9f399e58",
   "metadata": {},
   "outputs": [
    {
     "data": {
      "text/plain": [
       "((13842, 48), 22793, torch.Size([22793, 10, 32, 50]), torch.Size([22793, 10]))"
      ]
     },
     "execution_count": 2,
     "metadata": {},
     "output_type": "execute_result"
    }
   ],
   "source": [
    "# tensor data\n",
    "X = torch.load('data/bc22-32/X_rnn_tensor.pt')\n",
    "y = torch.load('data/bc22-32/y_rnn_tensor.pt')\n",
    "y = y.to(torch.float)\n",
    "\n",
    "# meta data information\n",
    "filtdata = pd.read_csv('data/bc22-32/train_metadata_nuanced.csv')\n",
    "common = np.loadtxt('data/bc22-32/common_species.txt', dtype=str)[-5:]\n",
    "files = np.loadtxt('data/bc22-32/files_rnn.csv', dtype=str)\n",
    "\n",
    "# print the shapes of the data\n",
    "filtdata.shape, len(files), X.shape, y.shape"
   ]
  },
  {
   "cell_type": "code",
   "execution_count": 3,
   "id": "de3a465f",
   "metadata": {},
   "outputs": [
    {
     "data": {
      "text/plain": [
       "(torch.Size([1593, 10, 32, 50]), torch.Size([1593, 10]))"
      ]
     },
     "execution_count": 3,
     "metadata": {},
     "output_type": "execute_result"
    }
   ],
   "source": [
    "# Analyze common species only\n",
    "filtdata_v2 = filtdata[filtdata['primary_label'].isin(common)]\n",
    "common_labels = filtdata_v2['filename'].unique()\n",
    "files_v2 = ['/'.join(file.split('/')[2:]) for file in files]\n",
    "bools = np.isin(files_v2, common_labels)\n",
    "X2 = X[bools]\n",
    "y2 = y[bools]\n",
    "X2.shape, y2.shape"
   ]
  },
  {
   "cell_type": "code",
   "execution_count": 40,
   "id": "9bdce990",
   "metadata": {},
   "outputs": [],
   "source": [
    "# Because the common species don't have 1 - 10 labels\n",
    "# Get unique values and create mapping\n",
    "unique_vals = torch.unique(y2)\n",
    "val_to_new = {old.item(): new for new, old in enumerate(unique_vals)}\n",
    "label_map = val_to_new\n",
    "\n",
    "# Remap y2 using the mapping\n",
    "y2_mapped = torch.tensor([[label_map[val.item()] if val.item() in label_map else -1 for val in row] for row in y2])"
   ]
  },
  {
   "cell_type": "markdown",
   "id": "c4a659e8",
   "metadata": {},
   "source": [
    "## Set up a convolutional recurrent model class"
   ]
  },
  {
   "cell_type": "code",
   "execution_count": null,
   "id": "59701814",
   "metadata": {},
   "outputs": [],
   "source": [
    "class CRNN(nn.Module):\n",
    "    \"\"\"\n",
    "    Convolutional Recurrent Neural Network (CRNN) for sequence classification.\n",
    "    \"\"\"\n",
    "\n",
    "    def __init__(self, \n",
    "                 num_classes,\n",
    "                 height=32,\n",
    "                 width=50,\n",
    "                 kernel_sizes=[3,3,3],\n",
    "                 padding_sizes=[1,1,1],\n",
    "                 stride_sizes=[1,1,1],\n",
    "                 pooling_kernels=[(1,4),(1,2),(2,2)],\n",
    "                 pooling_strides=[(1,4),(1,2),(2,2)],\n",
    "                 channel_sizes=[16,16,16], \n",
    "                 num_rnn_hidden=32, \n",
    "                 num_rnn_layers=1,\n",
    "                 num_fc_hidden=32, \n",
    "                 leakyRelu=False, \n",
    "                 batchNormalization=True):\n",
    "        \"\"\"Initializes the CRNN model.\n",
    "\n",
    "        Parameters\n",
    "        ----------\n",
    "        num_classes : int\n",
    "            Number of output classes.\n",
    "        height : int, optional\n",
    "            Height of the input images, by default 32\n",
    "        width : int, optional\n",
    "            Width of the input images, by default 50\n",
    "        kernel_sizes : list, optional\n",
    "            List of kernel sizes for each convolutional layer, by default [3,3,3]\n",
    "        padding_sizes : list, optional\n",
    "            List of padding sizes for each convolutional layer, by default [1,1,1]\n",
    "        stride_sizes : list, optional\n",
    "            List of stride sizes for each convolutional layer, by default [1,1,1]\n",
    "        pooling_kernels : list, optional\n",
    "            List of pooling kernel sizes for each pooling layer, by default [(1,4),(1,2),(2,2)]\n",
    "        pooling_strides : list, optional\n",
    "            List of pooling strides for each pooling layer, by default [(1,4),(1,2),(2,2)]\n",
    "        channel_sizes : list, optional\n",
    "            List of output channel sizes for each convolutional layer, by default [16,16,16]\n",
    "        num_rnn_hidden : int, optional\n",
    "            Number of hidden units in the RNN layer, by default 32\n",
    "        num_rnn_layers : int, optional\n",
    "            Number of layers in the RNN, by default 1\n",
    "        num_fc_hidden : int, optional\n",
    "            Number of hidden units in the fully connected layer, by default 32\n",
    "        leakyRelu : bool, optional\n",
    "            Whether to use LeakyReLU activation, by default False\n",
    "        batchNormalization : bool, optional\n",
    "            Whether to apply batch normalization after convolutional layers, by default True\n",
    "        \n",
    "        Returns\n",
    "        -------\n",
    "        None\n",
    "        \"\"\"\n",
    "        super(CRNN, self).__init__()\n",
    "\n",
    "        ks = kernel_sizes\n",
    "        ps = padding_sizes\n",
    "        ss = stride_sizes\n",
    "        nm = channel_sizes\n",
    "        assert len(ks) == len(ps) == len(ss) == len(nm) \n",
    "\n",
    "        # define the CNN layers\n",
    "        cnn = nn.Sequential()\n",
    "        nIn = 1\n",
    "        out_height, out_width = height, width\n",
    "        for i in range(len(nm)):\n",
    "            nOut = nm[i]\n",
    "            cnn.add_module('conv{0}'.format(i),\n",
    "                           nn.Conv2d(nIn, nOut, ks[i], ss[i], ps[i]))\n",
    "            # Calculate output height and width after this conv layer\n",
    "            out_height = (out_height + 2 * ps[i] - ks[i]) // ss[i] + 1\n",
    "            out_width = (out_width + 2 * ps[i] - ks[i]) // ss[i] + 1\n",
    "            if batchNormalization:\n",
    "                cnn.add_module('batchnorm{0}'.format(i), nn.BatchNorm2d(nOut))\n",
    "            if leakyRelu:\n",
    "                cnn.add_module('relu{0}'.format(i),\n",
    "                               nn.LeakyReLU(0.2, inplace=True))\n",
    "            else:\n",
    "                cnn.add_module('relu{0}'.format(i), nn.ReLU(True))\n",
    "            pooling_kernel = pooling_kernels[i]\n",
    "            pooling_stride = pooling_strides[i]\n",
    "            cnn.add_module('pooling{0}'.format(i), nn.MaxPool2d(pooling_kernel, pooling_stride))\n",
    "            # Update output height and width after pooling\n",
    "            out_height = (out_height - pooling_kernel[0]) // pooling_stride[0] + 1\n",
    "            out_width = (out_width - pooling_kernel[1]) // pooling_stride[1] + 1\n",
    "            nIn = nOut\n",
    "\n",
    "        self.cnn = cnn\n",
    "        self.rnn = nn.LSTM(nm[-1] * out_height * out_width, \n",
    "                           num_rnn_hidden,\n",
    "                           num_layers=num_rnn_layers, \n",
    "                           bidirectional=True,\n",
    "                           batch_first=True,\n",
    "                           )\n",
    "        self.fc1 = nn.Linear(num_rnn_hidden * 2, num_fc_hidden * 2)\n",
    "        self.relu_fc = nn.ReLU()\n",
    "        self.fc2 = nn.Linear(num_fc_hidden * 2, num_classes)\n",
    "\n",
    "    def forward(self, input):\n",
    "        \"\"\"Forward pass of the CRNN model.\n",
    "\n",
    "        Parameters\n",
    "        ----------\n",
    "        input : torch.Tensor\n",
    "            Input tensor of shape (batch_size, time_steps, channels, height, width).\n",
    "\n",
    "        Returns\n",
    "        -------\n",
    "        torch.Tensor\n",
    "            Output tensor of shape (batch_size, time_steps, num_classes).\n",
    "        \"\"\"\n",
    "\n",
    "        # conv features\n",
    "        b, t, c, h, w = input.size()\n",
    "        x = input.view(-1, c, h, w)\n",
    "        x = self.cnn(x)\n",
    "        x = x.view(b, t, -1)\n",
    "\n",
    "        # rnn features\n",
    "        # Initialize hidden and cell states for LSTM\n",
    "        h0 = torch.zeros(self.rnn.num_layers * 2, b, self.rnn.hidden_size, device=x.device)\n",
    "        c0 = torch.zeros(self.rnn.num_layers * 2, b, self.rnn.hidden_size, device=x.device)\n",
    "        out, _ = self.rnn(x, (h0, c0))\n",
    "        \n",
    "        # # fully connected layer\n",
    "        out = self.fc1(out)\n",
    "        out = self.relu_fc(out)\n",
    "        out = self.fc2(out)\n",
    "\n",
    "        return out"
   ]
  },
  {
   "cell_type": "markdown",
   "id": "2cf24fa3",
   "metadata": {},
   "source": [
    "## Train-test split"
   ]
  },
  {
   "cell_type": "code",
   "execution_count": 43,
   "id": "7c3b7a51",
   "metadata": {},
   "outputs": [
    {
     "name": "stdout",
     "output_type": "stream",
     "text": [
      "Training data size: 1274\n",
      "Testing data size: 319\n"
     ]
    }
   ],
   "source": [
    "batch_size = 100\n",
    "num_zeros = 100\n",
    "\n",
    "X2 = X2.to(torch.float32)\n",
    "\n",
    "# Split the data into training and testing sets\n",
    "X_train, X_test, y_train, y_test = train_test_split(\n",
    "    X2, y2_mapped, test_size=0.2, random_state=42\n",
    ")\n",
    "\n",
    "# Print the sizes of the splits\n",
    "print(f\"Training data size: {X_train.shape[0]}\")\n",
    "print(f\"Testing data size: {X_test.shape[0]}\")\n",
    "\n",
    "train_data = TensorDataset(X_train, y_train)\n",
    "test_data = TensorDataset(X_test, y_test)\n",
    "train_loader = DataLoader(train_data, batch_size=batch_size, shuffle=True)\n",
    "test_loader = DataLoader(test_data, batch_size=batch_size, shuffle=False)"
   ]
  },
  {
   "cell_type": "markdown",
   "id": "1ebb50e9",
   "metadata": {},
   "source": [
    "## Initialize the model"
   ]
  },
  {
   "cell_type": "code",
   "execution_count": 54,
   "id": "4af62b58",
   "metadata": {},
   "outputs": [
    {
     "name": "stdout",
     "output_type": "stream",
     "text": [
      "CNN parameters: 1896\n",
      "RNN parameters: 7040\n",
      "FC1 parameters: 544\n",
      "FC2 parameters: 198\n",
      "\n",
      "CRNN(\n",
      "  (cnn): Sequential(\n",
      "    (conv0): Conv2d(1, 8, kernel_size=(3, 3), stride=(1, 1), padding=(1, 1))\n",
      "    (batchnorm0): BatchNorm2d(8, eps=1e-05, momentum=0.1, affine=True, track_running_stats=True)\n",
      "    (relu0): ReLU(inplace=True)\n",
      "    (pooling0): MaxPool2d(kernel_size=2, stride=2, padding=0, dilation=1, ceil_mode=False)\n",
      "    (conv1): Conv2d(8, 8, kernel_size=(3, 3), stride=(1, 1), padding=(1, 1))\n",
      "    (batchnorm1): BatchNorm2d(8, eps=1e-05, momentum=0.1, affine=True, track_running_stats=True)\n",
      "    (relu1): ReLU(inplace=True)\n",
      "    (pooling1): MaxPool2d(kernel_size=2, stride=2, padding=0, dilation=1, ceil_mode=False)\n",
      "    (conv2): Conv2d(8, 8, kernel_size=(3, 3), stride=(1, 1), padding=(1, 1))\n",
      "    (batchnorm2): BatchNorm2d(8, eps=1e-05, momentum=0.1, affine=True, track_running_stats=True)\n",
      "    (relu2): ReLU(inplace=True)\n",
      "    (pooling2): MaxPool2d(kernel_size=2, stride=2, padding=0, dilation=1, ceil_mode=False)\n",
      "    (conv3): Conv2d(8, 8, kernel_size=(3, 3), stride=(1, 1), padding=(1, 1))\n",
      "    (batchnorm3): BatchNorm2d(8, eps=1e-05, momentum=0.1, affine=True, track_running_stats=True)\n",
      "    (relu3): ReLU(inplace=True)\n",
      "    (pooling3): MaxPool2d(kernel_size=2, stride=2, padding=0, dilation=1, ceil_mode=False)\n",
      "  )\n",
      "  (rnn): LSTM(48, 8, num_layers=3, batch_first=True, bidirectional=True)\n",
      "  (fc1): Linear(in_features=16, out_features=32, bias=True)\n",
      "  (relu_fc): ReLU()\n",
      "  (fc2): Linear(in_features=32, out_features=6, bias=True)\n",
      ")\n"
     ]
    }
   ],
   "source": [
    "# Example usage\n",
    "num_classes = len(y2_mapped.unique())  # Number of unique categories in y_encoded\n",
    "crnn_model = CRNN(num_classes)\n",
    "# crnn_model.half()\n",
    "\n",
    "# Define the loss function and optimizer\n",
    "criterion = nn.CrossEntropyLoss()  # Suitable for multi-class classification\n",
    "\n",
    "# Choose an optimizer for training\n",
    "# optimizer = optim.SGD(crnn_model.parameters(), lr=0.01, momentum=0.9)  # Adjust learning rate and momentum as needed\n",
    "optimizer = optim.Adam(crnn_model.parameters(), lr=0.002)  # You can adjust the learning rate\n",
    "# optimizer = optim.RMSprop(crnn_model.parameters(), lr=0.001, alpha=0.99, eps=1e-08, weight_decay=0, momentum=0, centered=False) # I know less about these\n",
    "\n",
    "\n",
    "def count_parameters(module):\n",
    "    return sum(p.numel() for p in module.parameters() if p.requires_grad)\n",
    "\n",
    "print(\"CNN parameters:\", count_parameters(crnn_model.cnn))\n",
    "print(\"RNN parameters:\", count_parameters(crnn_model.rnn))\n",
    "print(\"FC1 parameters:\", count_parameters(crnn_model.fc1))\n",
    "print(\"FC2 parameters:\", count_parameters(crnn_model.fc2))\n",
    "\n",
    "print()\n",
    "\n",
    "print(crnn_model)\n"
   ]
  },
  {
   "cell_type": "markdown",
   "id": "770a2387",
   "metadata": {},
   "source": [
    "## Train the model"
   ]
  },
  {
   "cell_type": "code",
   "execution_count": 59,
   "id": "152c117d",
   "metadata": {},
   "outputs": [
    {
     "name": "stdout",
     "output_type": "stream",
     "text": [
      "Epoch 1/20, Loss: 1.0365\n",
      "Epoch 2/20, Loss: 0.9890\n",
      "Epoch 3/20, Loss: 0.9728\n",
      "Epoch 4/20, Loss: 0.9837\n",
      "Epoch 5/20, Loss: 0.9310\n",
      "Epoch 6/20, Loss: 0.9680\n",
      "Epoch 7/20, Loss: 0.9283\n",
      "Epoch 8/20, Loss: 0.9960\n",
      "Epoch 9/20, Loss: 0.9216\n",
      "Epoch 10/20, Loss: 0.9296\n",
      "Epoch 11/20, Loss: 0.9249\n",
      "Epoch 12/20, Loss: 0.8798\n",
      "Epoch 13/20, Loss: 0.8799\n",
      "Epoch 14/20, Loss: 0.8687\n",
      "Epoch 15/20, Loss: 0.8570\n",
      "Epoch 16/20, Loss: 0.8984\n",
      "Epoch 17/20, Loss: 0.8626\n",
      "Epoch 18/20, Loss: 0.8531\n",
      "Epoch 19/20, Loss: 0.8422\n",
      "Epoch 20/20, Loss: 0.8393\n"
     ]
    }
   ],
   "source": [
    "# # Training loop\n",
    "num_epochs = 20  # Number of epochs to train\n",
    "for epoch in range(num_epochs):\n",
    "    crnn_model.train()  # Set the model to training mode\n",
    "    running_loss = 0.0\n",
    "\n",
    "    for inputs, labels in train_loader:\n",
    "\n",
    "        # Zero the parameter gradients\n",
    "        optimizer.zero_grad()\n",
    "\n",
    "        # Forward pass\n",
    "        inputs = inputs.unsqueeze(2)  # Add channel dimension\n",
    "        # inputs = inputs.half().to(\"cpu\")  # Convert to half precision\n",
    "        outputs = crnn_model(inputs)\n",
    "        \n",
    "        # Reshape for CrossEntropyLoss: (batch*time, num_classes) vs (batch*time,)\n",
    "        outputs = outputs.reshape(-1, num_classes)\n",
    "        labels = labels.reshape(-1).long()\n",
    "\n",
    "        # Compute the loss\n",
    "        # And backpropagate\n",
    "        loss = criterion(outputs, labels)\n",
    "        loss.backward()\n",
    "        torch.nn.utils.clip_grad_norm_(crnn_model.parameters(), max_norm=1.0, norm_type=2)\n",
    "        optimizer.step()\n",
    "\n",
    "        # Accumulate the loss\n",
    "        running_loss += loss.item()\n",
    "\n",
    "    # Print the average loss for this epoch\n",
    "    print(f\"Epoch {epoch + 1}/{num_epochs}, Loss: {running_loss / len(train_loader):.4f}\")"
   ]
  },
  {
   "cell_type": "markdown",
   "id": "210c2d8e",
   "metadata": {},
   "source": [
    "## Evaluate the model"
   ]
  },
  {
   "cell_type": "code",
   "execution_count": 56,
   "id": "1de898b1",
   "metadata": {},
   "outputs": [
    {
     "name": "stdout",
     "output_type": "stream",
     "text": [
      "CNN model\n",
      "Training Accuracy: 11.96%\n"
     ]
    }
   ],
   "source": [
    "# Evaluate the model's accuracy on the training data\n",
    "crnn_model.eval()  # Set the model to evaluation mode\n",
    "correct = 0\n",
    "total = 0\n",
    "\n",
    "with torch.no_grad():  # Disable gradient computation for evaluation\n",
    "    for inputs, labels in train_loader:\n",
    "\n",
    "        # Forward pass\n",
    "        inputs = inputs.unsqueeze(2)\n",
    "        outputs = crnn_model(inputs)\n",
    "        outputs = outputs.reshape(-1, num_classes)\n",
    "        predicted = outputs.argmax(dim=1)\n",
    "        labels = labels.reshape(-1).long()\n",
    "\n",
    "        # Update total and correct counts\n",
    "        total += labels.size(0)\n",
    "        correct += (predicted == labels).sum().item()\n",
    "\n",
    "# Calculate and print the accuracy\n",
    "accuracy = correct / total * 100\n",
    "print(\"CNN model\")\n",
    "print(f\"Training Accuracy: {accuracy:.2f}%\")"
   ]
  },
  {
   "cell_type": "code",
   "execution_count": 57,
   "id": "21038125",
   "metadata": {},
   "outputs": [
    {
     "name": "stdout",
     "output_type": "stream",
     "text": [
      "CNN model\n",
      "Test Accuracy: 11.94%\n"
     ]
    }
   ],
   "source": [
    "# Evaluate the model's accuracy on the training data\n",
    "crnn_model.eval()  # Set the model to evaluation mode\n",
    "correct = 0\n",
    "total = 0\n",
    "\n",
    "with torch.no_grad():  # Disable gradient computation for evaluation\n",
    "    for inputs, labels in test_loader:\n",
    "\n",
    "        # Forward pass\n",
    "        inputs = inputs.unsqueeze(2)\n",
    "        outputs = crnn_model(inputs)\n",
    "        outputs = outputs.reshape(-1, num_classes)\n",
    "        predicted = outputs.argmax(dim=1)\n",
    "        labels = labels.reshape(-1).long()\n",
    "\n",
    "        # Update total and correct counts\n",
    "        total += labels.size(0)\n",
    "        correct += (predicted == labels).sum().item()\n",
    "\n",
    "# Calculate and print the accuracy\n",
    "accuracy = correct / total * 100\n",
    "print(\"CNN model\")\n",
    "print(f\"Test Accuracy: {accuracy:.2f}%\")"
   ]
  },
  {
   "cell_type": "markdown",
   "id": "900125f1",
   "metadata": {},
   "source": [
    "## Plot the confusion matrix"
   ]
  },
  {
   "cell_type": "code",
   "execution_count": 58,
   "id": "e38e47f0",
   "metadata": {},
   "outputs": [
    {
     "data": {
      "image/png": "[encoded data removed]",
      "text/plain": [
       "<Figure size 640x480 with 2 Axes>"
      ]
     },
     "metadata": {},
     "output_type": "display_data"
    }
   ],
   "source": [
    "# Collect all predictions and true labels\n",
    "all_predictions = []\n",
    "all_true_labels = []\n",
    "\n",
    "# label_encoder = LabelEncoder()\n",
    "# y_encoded = label_encoder.fit_transform(y2_mapped)\n",
    "\n",
    "crnn_model.eval()  # Set the model to evaluation mode\n",
    "with torch.no_grad():  # Disable gradient computation for evaluation\n",
    "    for inputs, labels in test_loader:\n",
    "\n",
    "        # Forward pass\n",
    "        inputs = inputs.unsqueeze(2)\n",
    "        outputs = crnn_model(inputs)\n",
    "        outputs = outputs.reshape(-1, num_classes)\n",
    "        predicted = outputs.argmax(dim=1)\n",
    "        labels = labels.reshape(-1).long()\n",
    "\n",
    "# Compute the confusion matrix\n",
    "cm = confusion_matrix(labels, predicted)\n",
    "\n",
    "# Display the confusion matrix\n",
    "# Invert numeric labels back to bird_names for display\n",
    "disp_labels = [c.split('/')[0] for c in np.unique(common_labels)]\n",
    "disp = ConfusionMatrixDisplay(confusion_matrix=cm)\n",
    "disp.plot(cmap=plt.cm.Blues)\n",
    "\n",
    "plt.xticks(rotation=45)\n",
    "plt.yticks(rotation=45)\n",
    "\n",
    "plt.title('Simple CRNN model (test)')\n",
    "\n",
    "plt.show()"
   ]
  }
 ],
 "metadata": {
  "kernelspec": {
   "display_name": "birdclef",
   "language": "python",
   "name": "python3"
  },
  "language_info": {
   "codemirror_mode": {
    "name": "ipython",
    "version": 3
   },
   "file_extension": ".py",
   "mimetype": "text/x-python",
   "name": "python",
   "nbconvert_exporter": "python",
   "pygments_lexer": "ipython3",
   "version": "3.12.10"
  }
 },
 "nbformat": 4,
 "nbformat_minor": 5
}
