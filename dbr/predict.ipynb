{
 "cells": [
  {
   "cell_type": "code",
   "execution_count": 1,
   "id": "16e62d54",
   "metadata": {},
   "outputs": [],
   "source": [
    "from sklearn.preprocessing import LabelEncoder\n",
    "from sklearn.model_selection import train_test_split\n",
    "from sklearn.linear_model import LogisticRegression\n",
    "from sklearn.metrics import classification_report, \\\n",
    "    accuracy_score, \\\n",
    "    f1_score, \\\n",
    "    auc, \\\n",
    "    recall_score, \\\n",
    "    precision_score, \\\n",
    "    precision_recall_curve, \\\n",
    "    roc_curve\n",
    "import numpy as np\n",
    "from sklearn.metrics import confusion_matrix\n",
    "import seaborn as sns\n",
    "import matplotlib.pyplot as plt "
   ]
  },
  {
   "cell_type": "markdown",
   "id": "295c56ae",
   "metadata": {},
   "source": [
    "## Logistic regression on frequency range"
   ]
  },
  {
   "cell_type": "code",
   "execution_count": 2,
   "id": "8b47c022",
   "metadata": {},
   "outputs": [],
   "source": [
    "# Load the dataset\n",
    "X = np.load('stft.npy')\n",
    "Z = np.load('mel.npy')\n",
    "y = np.load('y.npy')"
   ]
  },
  {
   "cell_type": "code",
   "execution_count": 3,
   "id": "ae4058bd",
   "metadata": {},
   "outputs": [],
   "source": [
    "# Encode labels and split the dataset\n",
    "le = LabelEncoder()\n",
    "y_encoded = le.fit_transform(y)\n",
    "X_train, X_test, y_train, y_test = train_test_split(X, y_encoded, \n",
    "                                                    test_size=0.2, \n",
    "                                                    stratify=y_encoded)"
   ]
  },
  {
   "cell_type": "code",
   "execution_count": 4,
   "id": "b39490d8",
   "metadata": {},
   "outputs": [
    {
     "name": "stdout",
     "output_type": "stream",
     "text": [
      "Accuracy: 0.8154681139755766\n",
      "              precision    recall  f1-score   support\n",
      "\n",
      "        bird       0.78      0.93      0.85       329\n",
      "         dog       0.85      0.86      0.85       266\n",
      "        rain       0.87      0.48      0.62       142\n",
      "\n",
      "    accuracy                           0.82       737\n",
      "   macro avg       0.83      0.75      0.77       737\n",
      "weighted avg       0.82      0.82      0.81       737\n",
      "\n"
     ]
    }
   ],
   "source": [
    "# Fit logistic regression model\n",
    "clf = LogisticRegression(max_iter=2000, solver='lbfgs')\n",
    "clf.fit(X_train, y_train)\n",
    "\n",
    "# Predict on test set\n",
    "y_pred = clf.predict(X_test)\n",
    "\n",
    "# Print accuracy and classification report\n",
    "print(\"Accuracy:\", accuracy_score(y_test, y_pred))\n",
    "print(classification_report(y_test, y_pred, target_names=le.classes_))"
   ]
  },
  {
   "cell_type": "code",
   "execution_count": 5,
   "id": "4a4c01b5",
   "metadata": {},
   "outputs": [
    {
     "data": {
      "image/png": "[encoded data removed]",
      "text/plain": [
       "<Figure size 600x500 with 2 Axes>"
      ]
     },
     "metadata": {},
     "output_type": "display_data"
    }
   ],
   "source": [
    "cm = confusion_matrix(y_test, y_pred)\n",
    "plt.figure(figsize=(6, 5))\n",
    "sns.heatmap(cm, annot=True, fmt='d', cmap='Blues', xticklabels=le.classes_, yticklabels=le.classes_)\n",
    "plt.xlabel('Predicted')\n",
    "plt.ylabel('True')\n",
    "plt.title('Confusion Matrix')\n",
    "plt.show()"
   ]
  },
  {
   "cell_type": "markdown",
   "id": "436c6388",
   "metadata": {},
   "source": [
    "## CNN on mel-spectrogram"
   ]
  },
  {
   "cell_type": "code",
   "execution_count": 6,
   "id": "97000806",
   "metadata": {},
   "outputs": [],
   "source": [
    "import torch\n",
    "import torch.nn as nn\n",
    "import torch.nn.functional as F\n",
    "import torch.optim as optim\n",
    "from torch.utils.data import DataLoader, TensorDataset"
   ]
  },
  {
   "cell_type": "code",
   "execution_count": 7,
   "metadata": {},
   "outputs": [],
   "source": [
    "class FlexibleCNN(nn.Module):\n",
    "    \"\"\"FlexibleCNN: A Convolutional Neural Network for 2D data.\n",
    "    This model is designed to process audio data represented as spectrograms or sonograms.\n",
    "    It includes multiple convolutional layers, pooling layers, and fully connected layers.\n",
    "    \"\"\"\n",
    "\n",
    "    def __init__(self, \n",
    "                 num_classes,\n",
    "                 height=32,\n",
    "                 width=50,\n",
    "                 kernel_sizes=[3,3,3],\n",
    "                 padding_sizes=[1,1,1],\n",
    "                 stride_sizes=[1,1,1],\n",
    "                 pooling_kernels=[(2,2),(2,2),(2,2)],\n",
    "                 pooling_strides=[(2,2),(2,2),(2,2)],\n",
    "                 channel_sizes=[32,16,8], \n",
    "                 fc_sizes=[12],\n",
    "                 activation_layer=nn.ReLU,\n",
    "                 dropout=0.5,\n",
    "                 batchNormalization=False, \n",
    "                 leakyRelu=False, \n",
    "                 ):\n",
    "        \"\"\"Initialize the FlexibleCNN model.\n",
    "\n",
    "        Parameters\n",
    "        ----------\n",
    "        num_classes : int\n",
    "            Number of output classes for classification.\n",
    "        height : int, optional\n",
    "            Height of the input spectrogram (default is 32).\n",
    "        width : int, optional\n",
    "            Width of the input spectrogram (default is 50).\n",
    "        kernel_sizes : list of int or tuple, optional\n",
    "            List of kernel sizes for each convolutional layer.\n",
    "        padding_sizes : list of int or tuple, optional\n",
    "            List of padding sizes for each convolutional layer.\n",
    "        stride_sizes : list of int or tuple, optional\n",
    "            List of stride sizes for each convolutional layer.\n",
    "        pooling_kernels : list of int or tuple, optional\n",
    "            List of pooling kernel sizes for each pooling layer.\n",
    "        pooling_strides : list of int or tuple, optional\n",
    "            List of pooling stride sizes for each pooling layer.\n",
    "        channel_sizes : list of int, optional\n",
    "            List of output channel sizes for each convolutional layer.\n",
    "        fc_sizes : list of int, optional\n",
    "            List of sizes for the fully connected layers.\n",
    "        activation_layer : callable, optional\n",
    "            Activation function for the fully connected layers (default is ReLU).\n",
    "        dropout : float, optional\n",
    "            Dropout rate for regularization (default is 0.5).\n",
    "        batchNormalization : bool, optional\n",
    "            Whether to apply batch normalization after each convolutional layer (default is False).\n",
    "\n",
    "        Returns\n",
    "        -------\n",
    "        None\n",
    "        \"\"\"\n",
    "        super(FlexibleCNN, self).__init__()\n",
    "\n",
    "        # Validate input parameters\n",
    "        assert len(kernel_sizes) > 0, \"At least one kernel size must be provided\"\n",
    "        ks = kernel_sizes\n",
    "        ps = padding_sizes\n",
    "        ss = stride_sizes\n",
    "        nm = channel_sizes\n",
    "        pks = pooling_kernels\n",
    "        pss = pooling_strides\n",
    "        assert len(ks) == len(ps) == len(ss) == len(nm), \\\n",
    "            \"Kernel sizes, padding sizes, stride sizes, and channel sizes must have the same length\"\n",
    "        assert len(pks) == len(pss) == len(nm), \\\n",
    "            \"Pooling kernel sizes and pooling stride sizes must match the number of channel sizes\" \n",
    "\n",
    "        # Define the CNN layers\n",
    "        cnn = nn.Sequential()\n",
    "        nIn = 1 # Assuming sonogram input is 1 dimensional\n",
    "        out_height, out_width = height, width\n",
    "        for i in range(len(nm)):\n",
    "            nOut = nm[i]\n",
    "            # Add a convolutional layer\n",
    "            cnn.add_module('conv{0}'.format(i),\n",
    "                           nn.Conv2d(nIn, nOut, ks[i], ss[i], ps[i]))\n",
    "            # Calculate output height and width after this conv layer\n",
    "            out_height = (out_height + 2 * ps[i] - ks[i]) // ss[i] + 1\n",
    "            out_width = (out_width + 2 * ps[i] - ks[i]) // ss[i] + 1\n",
    "\n",
    "            # Add batch normalization if specified\n",
    "            if batchNormalization:\n",
    "                cnn.add_module('batchnorm{0}'.format(i), nn.BatchNorm2d(nOut))\n",
    "\n",
    "            # Add activation function\n",
    "            if leakyRelu:\n",
    "                cnn.add_module('relu{0}'.format(i),\n",
    "                               nn.LeakyReLU(0.2, inplace=True))\n",
    "            else:\n",
    "                cnn.add_module('relu{0}'.format(i), nn.ReLU(True))\n",
    "\n",
    "            # Add the pooling layer\n",
    "            pooling_kernel = pooling_kernels[i]\n",
    "            pooling_stride = pooling_strides[i]\n",
    "            cnn.add_module('pooling{0}'.format(i), nn.MaxPool2d(pooling_kernel, pooling_stride))\n",
    "            # Update output height and width after pooling\n",
    "            out_height = (out_height - pooling_kernel[0]) // pooling_stride[0] + 1\n",
    "            out_width = (out_width - pooling_kernel[1]) // pooling_stride[1] + 1\n",
    "\n",
    "            # Add dropout if specified\n",
    "            if dropout > 0:\n",
    "                cnn.add_module('dropout{0}'.format(i), nn.Dropout(dropout))\n",
    "\n",
    "            # Update input channels for the next layer\n",
    "            nIn = nOut\n",
    "\n",
    "        # Save the CNN layers and output dimensions\n",
    "        self.cnn = cnn\n",
    "        self.height = out_height\n",
    "        self.width = out_width\n",
    "\n",
    "        # Define the fully connected layers\n",
    "        dnn = nn.Sequential()\n",
    "        dnn.add_module('fc1', nn.Linear(nm[-1] * out_height * out_width, \n",
    "                                        fc_sizes[0]\n",
    "                                        ))\n",
    "        dnn.add_module('fc_activation', activation_layer())\n",
    "        for _ in range(1,len(fc_sizes)):\n",
    "            dnn.add_module('fc{0}'.format(_+1), nn.Linear(fc_sizes[_], fc_sizes[_+1]))\n",
    "            dnn.add_module('fc_activation{0}'.format(_+1), activation_layer())\n",
    "        dnn.add_module('fc2', nn.Linear(fc_sizes[-1], num_classes))\n",
    "        self.fcnn = dnn\n",
    "\n",
    "    def forward(self, x):\n",
    "        \"\"\"Forward pass of the SchMichiganCNN model.\n",
    "\n",
    "        Parameters\n",
    "        ----------\n",
    "        x : torch.Tensor\n",
    "            Input tensor of shape (batch_size, in_channels, height, width).\n",
    "\n",
    "        Returns\n",
    "        -------\n",
    "        torch.Tensor\n",
    "            Output tensor of shape (batch_size, num_classes).\n",
    "        \"\"\"\n",
    "        x = self.cnn(x)\n",
    "        x = x.view(x.size(0), -1) # x.size(0) is the batch size\n",
    "        x = self.fcnn(x)\n",
    "        return x"
   ]
  },
  {
   "cell_type": "code",
   "execution_count": 8,
   "metadata": {},
   "outputs": [],
   "source": [
    "# Split the data into training and testing sets\n",
    "w = torch.tensor(y_encoded, dtype=torch.long)\n",
    "Z_tensor = torch.tensor(Z, dtype=torch.float32)\n",
    "Z_train, Z_test, w_train, w_test = train_test_split(\n",
    "    Z_tensor, w, test_size=0.2, stratify=y_encoded, random_state=42\n",
    ")"
   ]
  },
  {
   "cell_type": "code",
   "execution_count": 9,
   "id": "ec108a85",
   "metadata": {},
   "outputs": [],
   "source": [
    "batch_size = 200\n",
    "train_data = TensorDataset(Z_train, w_train)\n",
    "test_data = TensorDataset(Z_test, w_test)\n",
    "train_loader = DataLoader(train_data, batch_size=batch_size, shuffle=True)\n",
    "test_loader = DataLoader(test_data, batch_size=batch_size, shuffle=False)"
   ]
  },
  {
   "cell_type": "code",
   "execution_count": 10,
   "id": "1c513a55",
   "metadata": {},
   "outputs": [],
   "source": [
    "model = FlexibleCNN(num_classes=len(le.classes_),\n",
    "                       height=Z.shape[1],\n",
    "                       width=Z.shape[2],\n",
    "                       )"
   ]
  },
  {
   "cell_type": "code",
   "execution_count": 11,
   "id": "77e9cc00",
   "metadata": {},
   "outputs": [
    {
     "name": "stdout",
     "output_type": "stream",
     "text": [
      "Total Conv2d parameters: 6104\n",
      "Total Fully Connected (Linear) parameters: 81459\n",
      "\n"
     ]
    }
   ],
   "source": [
    "if type(model) == FlexibleCNN:\n",
    "    conv_params = 0\n",
    "    fc_params = 0\n",
    "\n",
    "    for name, param in model.named_parameters():\n",
    "        if 'conv' in name:\n",
    "            conv_params += param.numel()\n",
    "        elif 'fc' in name:\n",
    "            fc_params += param.numel()\n",
    "\n",
    "    print(f\"Total Conv2d parameters: {conv_params}\")\n",
    "    print(f\"Total Fully Connected (Linear) parameters: {fc_params}\")\n",
    "    print()\n"
   ]
  },
  {
   "cell_type": "code",
   "execution_count": 12,
   "id": "05eb02b3",
   "metadata": {},
   "outputs": [
    {
     "data": {
      "text/plain": [
       "FlexibleCNN(\n",
       "  (cnn): Sequential(\n",
       "    (conv0): Conv2d(1, 32, kernel_size=(3, 3), stride=(1, 1), padding=(1, 1))\n",
       "    (relu0): ReLU(inplace=True)\n",
       "    (pooling0): MaxPool2d(kernel_size=(2, 2), stride=(2, 2), padding=0, dilation=1, ceil_mode=False)\n",
       "    (dropout0): Dropout(p=0.5, inplace=False)\n",
       "    (conv1): Conv2d(32, 16, kernel_size=(3, 3), stride=(1, 1), padding=(1, 1))\n",
       "    (relu1): ReLU(inplace=True)\n",
       "    (pooling1): MaxPool2d(kernel_size=(2, 2), stride=(2, 2), padding=0, dilation=1, ceil_mode=False)\n",
       "    (dropout1): Dropout(p=0.5, inplace=False)\n",
       "    (conv2): Conv2d(16, 8, kernel_size=(3, 3), stride=(1, 1), padding=(1, 1))\n",
       "    (relu2): ReLU(inplace=True)\n",
       "    (pooling2): MaxPool2d(kernel_size=(2, 2), stride=(2, 2), padding=0, dilation=1, ceil_mode=False)\n",
       "    (dropout2): Dropout(p=0.5, inplace=False)\n",
       "  )\n",
       "  (fcnn): Sequential(\n",
       "    (fc1): Linear(in_features=6784, out_features=12, bias=True)\n",
       "    (fc_activation): ReLU()\n",
       "    (fc2): Linear(in_features=12, out_features=3, bias=True)\n",
       "  )\n",
       ")"
      ]
     },
     "execution_count": 12,
     "metadata": {},
     "output_type": "execute_result"
    }
   ],
   "source": [
    "model"
   ]
  },
  {
   "cell_type": "code",
   "execution_count": null,
   "id": "d7d25435",
   "metadata": {},
   "outputs": [
    {
     "ename": "",
     "evalue": "",
     "output_type": "error",
     "traceback": [
      "\u001b[1;31mThe Kernel crashed while executing code in the current cell or a previous cell. \n",
      "\u001b[1;31mPlease review the code in the cell(s) to identify a possible cause of the failure. \n",
      "\u001b[1;31mClick <a href='https://aka.ms/vscodeJupyterKernelCrash'>here</a> for more info. \n",
      "\u001b[1;31mView Jupyter <a href='command:jupyter.viewOutput'>log</a> for further details."
     ]
    }
   ],
   "source": [
    "# Example usage\n",
    "\n",
    "num_epochs = 10  # Number of epochs to train\n",
    "\n",
    "# Define the loss function and optimizer\n",
    "criterion = nn.CrossEntropyLoss()  # Suitable for multi-class classification\n",
    "\n",
    "# Choose an optimizer for training\n",
    "optimizer = optim.Adam(model.parameters(), lr=0.01)  # You can adjust the learning rate\n"
   ]
  },
  {
   "cell_type": "code",
   "execution_count": null,
   "id": "d61435f8",
   "metadata": {},
   "outputs": [],
   "source": [
    "# # Training loop\n",
    "for epoch in range(num_epochs):\n",
    "    model.train()  # Set the model to training mode\n",
    "    running_loss = 0.0\n",
    "\n",
    "    for inputs, labels in train_loader:\n",
    "\n",
    "        # Zero the parameter gradients\n",
    "        optimizer.zero_grad()\n",
    "        inputs = inputs.unsqueeze(1)\n",
    "\n",
    "        # Forward pass\n",
    "        outputs = model(inputs)\n",
    "\n",
    "        # Compute the loss\n",
    "        loss = criterion(outputs, labels)\n",
    "\n",
    "        # Backward pass and optimization\n",
    "        loss.backward()\n",
    "        optimizer.step()\n",
    "\n",
    "        # Accumulate the loss\n",
    "        running_loss += loss.item()\n",
    "\n",
    "    # Print the average loss for this epoch\n",
    "    print(f\"Epoch {epoch + 1}/{num_epochs}, Loss: {running_loss / len(train_loader):.4f}\")"
   ]
  },
  {
   "cell_type": "code",
   "execution_count": null,
   "id": "b9f89a6e",
   "metadata": {},
   "outputs": [
    {
     "name": "stdout",
     "output_type": "stream",
     "text": [
      "Validation Accuracy: 0.7426\n",
      "              precision    recall  f1-score   support\n",
      "\n",
      "        bird       0.68      0.87      0.77        62\n",
      "         dog       0.91      0.84      0.87        49\n",
      "        rain       0.50      0.24      0.32        25\n",
      "\n",
      "    accuracy                           0.74       136\n",
      "   macro avg       0.70      0.65      0.65       136\n",
      "weighted avg       0.73      0.74      0.72       136\n",
      "\n"
     ]
    }
   ],
   "source": [
    "model.eval()\n",
    "all_preds = []\n",
    "all_labels = []\n",
    "\n",
    "with torch.no_grad():\n",
    "    for inputs, labels in test_loader:\n",
    "        inputs = inputs.unsqueeze(1)\n",
    "        outputs = model(inputs)\n",
    "        _, preds = torch.max(outputs, 1)\n",
    "        all_preds.extend(preds.cpu().numpy())\n",
    "        all_labels.extend(labels.cpu().numpy())\n",
    "\n",
    "# Calculate accuracy\n",
    "accuracy = accuracy_score(all_labels, all_preds)\n",
    "print(f\"Validation Accuracy: {accuracy:.4f}\")\n",
    "\n",
    "# Print classification report\n",
    "print(classification_report(all_labels, all_preds, target_names=le.classes_))"
   ]
  },
  {
   "cell_type": "code",
   "execution_count": null,
   "id": "5870136e",
   "metadata": {},
   "outputs": [
    {
     "data": {
      "image/png": "[encoded data removed]",
      "text/plain": [
       "<Figure size 600x500 with 2 Axes>"
      ]
     },
     "metadata": {},
     "output_type": "display_data"
    }
   ],
   "source": [
    "cm = confusion_matrix(all_labels, all_preds)\n",
    "plt.figure(figsize=(6, 5))\n",
    "sns.heatmap(cm, annot=True, fmt='d', cmap='Blues', xticklabels=le.classes_, yticklabels=le.classes_)\n",
    "plt.xlabel('Predicted')\n",
    "plt.ylabel('True')\n",
    "plt.title('Confusion Matrix')\n",
    "plt.show()"
   ]
  }
 ],
 "metadata": {
  "kernelspec": {
   "display_name": "birdclef",
   "language": "python",
   "name": "python3"
  },
  "language_info": {
   "codemirror_mode": {
    "name": "ipython",
    "version": 3
   },
   "file_extension": ".py",
   "mimetype": "text/x-python",
   "name": "python",
   "nbconvert_exporter": "python",
   "pygments_lexer": "ipython3",
   "version": "3.12.10"
  }
 },
 "nbformat": 4,
 "nbformat_minor": 5
}
