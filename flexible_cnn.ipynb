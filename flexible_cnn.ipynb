{
 "cells": [
  {
   "cell_type": "markdown",
   "id": "7bd4457f-2586-4e97-95e1-4743c6930884",
   "metadata": {},
   "source": [
    "# Train CNN for classification of a single audio time slice\n",
    "\n",
    "We make raw code blocks for more user functionality. Convert these to code blocks, thereby making custom models outside the scope of the command line interface, and convert the papermill-ready blocks to raw."
   ]
  },
  {
   "cell_type": "markdown",
   "id": "fbbe88b2-729a-4fc1-9e40-7f4833d62a6a",
   "metadata": {},
   "source": [
    "### Non-CLI blocks"
   ]
  },
  {
   "cell_type": "code",
   "execution_count": 56,
   "id": "86c24195-c839-432e-bbc8-294b43f74709",
   "metadata": {},
   "outputs": [],
   "source": [
    "# Non-CLI training details\n",
    "test_size = 0.2\n",
    "num_epochs = 50\n",
    "batch_size = 100\n",
    "lr = 1e-4\n",
    "random_state = 42\n",
    "optimize = 'adam'"
   ]
  },
  {
   "cell_type": "code",
   "execution_count": 57,
   "id": "315deba6-93fb-4f18-824f-c0d248e06ae6",
   "metadata": {},
   "outputs": [],
   "source": [
    "# Non-CLI file specification\n",
    "feature_file = 'dbr/mel.npy'\n",
    "target_file = 'dbr/y.npy'\n",
    "model_file = 'test_cnn.pth'"
   ]
  },
  {
   "cell_type": "code",
   "execution_count": 58,
   "id": "ec3b19ff-5c6e-4433-ac3b-7626b342d1c4",
   "metadata": {},
   "outputs": [],
   "source": [
    "# Custom model architecture\n",
    "kernel_sizes = [(3,3),(3,3),(2,2)]\n",
    "padding_sizes = [(1,1),(1,1),(1,1)]\n",
    "stride_sizes = [(1,1),(1,1),(1,1)]\n",
    "pooling_kernels = [(1,4),(4,1),(2,2)]\n",
    "pooling_strides = [(1,4),(4,1),(2,2)]\n",
    "channel_sizes = [32,16,8]\n",
    "fc_sizes = [16,16]\n",
    "dropout = 0.5"
   ]
  },
  {
   "cell_type": "markdown",
   "id": "8c5b2c10-d751-4560-9c8a-943a6550938c",
   "metadata": {},
   "source": [
    "### Papermill blocks"
   ]
  },
  {
   "cell_type": "code",
   "execution_count": 50,
   "id": "4c39d335-27e6-4a9f-a341-ab722e4d2e9c",
   "metadata": {
    "editable": true,
    "slideshow": {
     "slide_type": ""
    },
    "tags": [
     "parameters"
    ]
   },
   "outputs": [],
   "source": [
    "# Parameters\n",
    "\n",
    "feature_file = None\n",
    "target_file = None\n",
    "model_file = None\n",
    "yaml_file = None\n",
    "\n",
    "conv_num_layer = None\n",
    "conv_size_layer = None\n",
    "conv_kernel_size = None\n",
    "conv_padding_size = None\n",
    "conv_stride_size = None\n",
    "pool_kernel_size = None\n",
    "pool_stride_size = None\n",
    "fcn_num_layer = None\n",
    "fcn_size_layer = None\n",
    "activation = None\n",
    "dropout = None\n",
    "\n",
    "test_size = None\n",
    "batch_size = None\n",
    "num_epochs = None\n",
    "lr = None\n",
    "random_state = None\n",
    "optimize = None"
   ]
  },
  {
   "cell_type": "code",
   "execution_count": null,
   "id": "e67a4b36-1e55-4c0b-a40f-1fc47e4246c0",
   "metadata": {},
   "outputs": [],
   "source": [
    "import yaml\n",
    "if yaml_file is None:\n",
    "    pass\n",
    "else:\n",
    "    # yaml_file argument overwrites\n",
    "    with open(yaml_file, 'r') as f:\n",
    "        data = yaml.safe_load(f)\n",
    "\n",
    "    # files\n",
    "    feature_file = data['feature_file']\n",
    "    target_file = data['target_file']\n",
    "    model_file = data['model_file']\n",
    "\n",
    "    # architecture\n",
    "    conv_num_layer = data['conv_num_layer']\n",
    "    conv_size_layer = data['conv_size_layer']\n",
    "    conv_kernel_size = data['conv_kernel_size']\n",
    "    conv_padding_size = data['conv_padding_size']\n",
    "    conv_stride_size = data['conv_stride_size']\n",
    "    pool_kernel_size = data['pool_kernel_size']\n",
    "    pool_stride_size = data['pool_stride_size']\n",
    "    fcn_num_layer = data['fcn_num_layer']\n",
    "    fcn_size_layer = data['fcn_size_layer']\n",
    "    activation = data['activation']\n",
    "    dropout = data['dropout']\n",
    "\n",
    "    # training\n",
    "    test_size = data['test_size']\n",
    "    lr = data['lr']\n",
    "    num_epochs = data['num_epochs']\n",
    "    batch_size = data['batch_size']\n",
    "    random_state = data['random_state']\n",
    "    optimize = data['optimize']"
   ]
  },
  {
   "cell_type": "code",
   "execution_count": 51,
   "id": "b7618c06-61b3-4f68-850b-b58a84e562a5",
   "metadata": {},
   "outputs": [
    {
     "ename": "TypeError",
     "evalue": "int() argument must be a string, a bytes-like object or a real number, not 'NoneType'",
     "output_type": "error",
     "traceback": [
      "\u001b[31m---------------------------------------------------------------------------\u001b[39m",
      "\u001b[31mTypeError\u001b[39m                                 Traceback (most recent call last)",
      "\u001b[36mCell\u001b[39m\u001b[36m \u001b[39m\u001b[32mIn[51]\u001b[39m\u001b[32m, line 4\u001b[39m\n\u001b[32m      1\u001b[39m \u001b[38;5;66;03m# Type enforcing\u001b[39;00m\n\u001b[32m      2\u001b[39m \n\u001b[32m      3\u001b[39m \u001b[38;5;66;03m# Model architecture\u001b[39;00m\n\u001b[32m----> \u001b[39m\u001b[32m4\u001b[39m conv_num_layer = \u001b[38;5;28;43mint\u001b[39;49m\u001b[43m(\u001b[49m\u001b[43mconv_num_layer\u001b[49m\u001b[43m)\u001b[49m\n\u001b[32m      5\u001b[39m conv_size_layer = \u001b[38;5;28mint\u001b[39m(conv_size_layer)\n\u001b[32m      6\u001b[39m conv_kernel_size = \u001b[38;5;28mint\u001b[39m(conv_kernel_size)\n",
      "\u001b[31mTypeError\u001b[39m: int() argument must be a string, a bytes-like object or a real number, not 'NoneType'"
     ]
    }
   ],
   "source": [
    "# Type enforcing\n",
    "\n",
    "# Model architecture\n",
    "conv_num_layer = int(conv_num_layer)\n",
    "conv_size_layer = int(conv_size_layer)\n",
    "conv_kernel_size = int(conv_kernel_size)\n",
    "conv_padding_size = int(conv_padding_size)\n",
    "conv_stride_size = int(conv_stride_size)\n",
    "pool_kernel_size = int(pool_kernel_size)\n",
    "pool_stride_size = int(pool_stride_size)\n",
    "fcn_num_layer = int(fcn_num_layer)\n",
    "fcn_size_layer = int(fcn_size_layer)\n",
    "activation = str(activation)\n",
    "dropout = float(dropout)\n",
    "\n",
    "# Training details\n",
    "test_size = float(test_size)\n",
    "num_epochs = int(num_epochs)\n",
    "batch_size = int(batch_size)\n",
    "lr = float(lr)\n",
    "random_state = int(random_state)"
   ]
  },
  {
   "cell_type": "code",
   "execution_count": null,
   "id": "4ae7fa27-753c-4f54-87fb-e7711c38c212",
   "metadata": {},
   "outputs": [],
   "source": [
    "kernel_sizes = [conv_kernel_size for _ in range(conv_num_layer)] \n",
    "padding_sizes = [conv_padding_size for _ in range(conv_num_layer)]\n",
    "stride_sizes = [conv_stride_size for _ in range(conv_num_layer)]\n",
    "pooling_kernels = [(pool_kernel_size, pool_kernel_size) for _ in range(conv_num_layer)]\n",
    "pooling_strides = [(pool_stride_size, pool_stride_size) for _ in range(conv_num_layer)]\n",
    "channel_sizes = [conv_size_layer for _ in range(conv_num_layer)]\n",
    "fc_sizes = [fcn_size_layer for _ in range(fcn_num_layer)]"
   ]
  },
  {
   "cell_type": "markdown",
   "id": "1e419249-4f2c-4e9c-90be-a8c89324cb52",
   "metadata": {},
   "source": [
    "### Imports"
   ]
  },
  {
   "cell_type": "code",
   "execution_count": 5,
   "id": "bade4739-ff31-416b-bf63-15ceb9448374",
   "metadata": {},
   "outputs": [],
   "source": [
    "# deep learning\n",
    "import torch\n",
    "import torch.nn as nn\n",
    "import torch.nn.functional as F\n",
    "import torch.optim as optim\n",
    "from torch.utils.data import DataLoader, TensorDataset\n",
    "\n",
    "# machine learning\n",
    "from sklearn.preprocessing import LabelEncoder\n",
    "from sklearn.model_selection import train_test_split\n",
    "from sklearn.metrics import classification_report, \\\n",
    "    accuracy_score, \\\n",
    "    f1_score, \\\n",
    "    auc, \\\n",
    "    recall_score, \\\n",
    "    precision_score, \\\n",
    "    precision_recall_curve, \\\n",
    "    roc_curve\n",
    "from sklearn.metrics import confusion_matrix\n",
    "\n",
    "# basic\n",
    "import numpy as np\n",
    "import seaborn as sns\n",
    "import matplotlib.pyplot as plt "
   ]
  },
  {
   "cell_type": "markdown",
   "id": "436c6388",
   "metadata": {},
   "source": [
    "### Set up GPU use"
   ]
  },
  {
   "cell_type": "code",
   "execution_count": 6,
   "id": "0e73795e-0a94-432e-a5c6-0abe59b1ba9b",
   "metadata": {},
   "outputs": [
    {
     "name": "stdout",
     "output_type": "stream",
     "text": [
      "Tue Jun 24 09:33:34 2025       \n",
      "+-----------------------------------------------------------------------------------------+\n",
      "| NVIDIA-SMI 570.124.06             Driver Version: 570.124.06     CUDA Version: 12.8     |\n",
      "|-----------------------------------------+------------------------+----------------------+\n",
      "| GPU  Name                 Persistence-M | Bus-Id          Disp.A | Volatile Uncorr. ECC |\n",
      "| Fan  Temp   Perf          Pwr:Usage/Cap |           Memory-Usage | GPU-Util  Compute M. |\n",
      "|                                         |                        |               MIG M. |\n",
      "|=========================================+========================+======================|\n",
      "|   0  Tesla V100-PCIE-16GB           On  |   00000000:3B:00.0 Off |                    0 |\n",
      "| N/A   28C    P0             24W /  250W |       1MiB /  16384MiB |      0%   E. Process |\n",
      "|                                         |                        |                  N/A |\n",
      "+-----------------------------------------+------------------------+----------------------+\n",
      "                                                                                         \n",
      "+-----------------------------------------------------------------------------------------+\n",
      "| Processes:                                                                              |\n",
      "|  GPU   GI   CI              PID   Type   Process name                        GPU Memory |\n",
      "|        ID   ID                                                               Usage      |\n",
      "|=========================================================================================|\n",
      "|  No running processes found                                                             |\n",
      "+-----------------------------------------------------------------------------------------+\n"
     ]
    }
   ],
   "source": [
    "!nvidia-smi"
   ]
  },
  {
   "cell_type": "code",
   "execution_count": 67,
   "id": "a7ddb9ee-81c7-40eb-9893-523e888b02c0",
   "metadata": {},
   "outputs": [
    {
     "name": "stdout",
     "output_type": "stream",
     "text": [
      "cuda\n"
     ]
    }
   ],
   "source": [
    "device = torch.device(\"cuda\" if torch.cuda.is_available() else \"cpu\")\n",
    "print(device)"
   ]
  },
  {
   "cell_type": "markdown",
   "id": "985fc8e1-747d-434c-b3ac-44655c8c8d17",
   "metadata": {},
   "source": [
    "### Load the data"
   ]
  },
  {
   "cell_type": "code",
   "execution_count": 59,
   "id": "8b47c022",
   "metadata": {},
   "outputs": [],
   "source": [
    "# Load the dataset\n",
    "X = np.load(feature_file)\n",
    "y = np.load(target_file)"
   ]
  },
  {
   "cell_type": "code",
   "execution_count": 60,
   "id": "ae4058bd",
   "metadata": {},
   "outputs": [],
   "source": [
    "# Encode labels and split the dataset\n",
    "le = LabelEncoder()\n",
    "y_encoded = le.fit_transform(y)"
   ]
  },
  {
   "cell_type": "code",
   "execution_count": 61,
   "id": "74adf46a",
   "metadata": {},
   "outputs": [],
   "source": [
    "# Split the data into training and testing sets\n",
    "y_tensor = torch.tensor(y_encoded, dtype=torch.long)\n",
    "X_tensor = torch.tensor(X, dtype=torch.float32)\n",
    "X_train, X_test, y_train, y_test = train_test_split(\n",
    "    X_tensor, y_tensor, test_size=test_size, stratify=y_encoded, random_state=random_state\n",
    ")"
   ]
  },
  {
   "cell_type": "code",
   "execution_count": 62,
   "id": "ec108a85",
   "metadata": {},
   "outputs": [],
   "source": [
    "batch_size = batch_size\n",
    "train_data = TensorDataset(X_train, y_train)\n",
    "test_data = TensorDataset(X_test, y_test)\n",
    "train_loader = DataLoader(train_data, batch_size=batch_size, shuffle=True)\n",
    "test_loader = DataLoader(test_data, batch_size=batch_size, shuffle=False)"
   ]
  },
  {
   "cell_type": "markdown",
   "id": "ff59da33-7b8a-4658-bdb7-40a14c29d0f7",
   "metadata": {},
   "source": [
    "### Define the convolutional neural network model"
   ]
  },
  {
   "cell_type": "code",
   "execution_count": 63,
   "id": "1c015dbd",
   "metadata": {},
   "outputs": [],
   "source": [
    "class FlexibleCNN(nn.Module):\n",
    "    \"\"\"FlexibleCNN: A Convolutional Neural Network for 2D data.\n",
    "    This model is designed to process audio data represented as spectrograms or sonograms.\n",
    "    It includes multiple convolutional layers, pooling layers, and fully connected layers.\n",
    "    \"\"\"\n",
    "\n",
    "    def __init__(self, \n",
    "                 num_classes,\n",
    "                 height=32,\n",
    "                 width=50,\n",
    "                 kernel_sizes=[3,3,3],\n",
    "                 padding_sizes=[1,1,1],\n",
    "                 stride_sizes=[1,1,1],\n",
    "                 pooling_kernels=[(2,2),(2,2),(2,2)],\n",
    "                 pooling_strides=[(2,2),(2,2),(2,2)],\n",
    "                 channel_sizes=[32,16,8], \n",
    "                 fc_sizes=[12],\n",
    "                 activation_layer=nn.ReLU,\n",
    "                 dropout=0.5,\n",
    "                 batchNormalization=False, \n",
    "                 leakyRelu=False, \n",
    "                 ):\n",
    "        \"\"\"Initialize the FlexibleCNN model.\n",
    "\n",
    "        Parameters\n",
    "        ----------\n",
    "        num_classes : int\n",
    "            Number of output classes for classification.\n",
    "        height : int, optional\n",
    "            Height of the input spectrogram (default is 32).\n",
    "        width : int, optional\n",
    "            Width of the input spectrogram (default is 50).\n",
    "        kernel_sizes : list of int or tuple, optional\n",
    "            List of kernel sizes for each convolutional layer.\n",
    "        padding_sizes : list of int or tuple, optional\n",
    "            List of padding sizes for each convolutional layer.\n",
    "        stride_sizes : list of int or tuple, optional\n",
    "            List of stride sizes for each convolutional layer.\n",
    "        pooling_kernels : list of int or tuple, optional\n",
    "            List of pooling kernel sizes for each pooling layer.\n",
    "        pooling_strides : list of int or tuple, optional\n",
    "            List of pooling stride sizes for each pooling layer.\n",
    "        channel_sizes : list of int, optional\n",
    "            List of output channel sizes for each convolutional layer.\n",
    "        fc_sizes : list of int, optional\n",
    "            List of sizes for the fully connected layers.\n",
    "        activation_layer : callable, optional\n",
    "            Activation function for the fully connected layers (default is ReLU).\n",
    "        dropout : float, optional\n",
    "            Dropout rate for regularization (default is 0.5).\n",
    "        batchNormalization : bool, optional\n",
    "            Whether to apply batch normalization after each convolutional layer (default is False).\n",
    "\n",
    "        Returns\n",
    "        -------\n",
    "        None\n",
    "        \"\"\"\n",
    "        super(FlexibleCNN, self).__init__()\n",
    "\n",
    "        # Validate input parameters\n",
    "        assert len(kernel_sizes) > 0, \"At least one kernel size must be provided\"\n",
    "        ks = kernel_sizes\n",
    "        ps = padding_sizes\n",
    "        ss = stride_sizes\n",
    "        nm = channel_sizes\n",
    "        pks = pooling_kernels\n",
    "        pss = pooling_strides\n",
    "        assert len(ks) == len(ps) == len(ss) == len(nm), \\\n",
    "            \"Kernel sizes, padding sizes, stride sizes, and channel sizes must have the same length\"\n",
    "        assert len(pks) == len(pss) == len(nm), \\\n",
    "            \"Pooling kernel sizes and pooling stride sizes must match the number of channel sizes\" \n",
    "\n",
    "        # Define the CNN layers\n",
    "        cnn = nn.Sequential()\n",
    "        nIn = 1 # Assuming sonogram input is 1 dimensional\n",
    "        out_height, out_width = height, width\n",
    "        for i in range(len(nm)):\n",
    "            nOut = nm[i]\n",
    "            # Add a convolutional layer\n",
    "            cnn.add_module('conv{0}'.format(i),\n",
    "                           nn.Conv2d(nIn, nOut, ks[i], ss[i], ps[i]))\n",
    "            # Calculate output height and width after this conv layer\n",
    "            if type(ps[i]) is tuple:\n",
    "                assert (type(ps[i]) is tuple) and (type(ks[i]) is tuple) and (type(ss[i]) is tuple)\n",
    "                out_height = (out_height + 2 * ps[i][0] - ks[i][0]) // ss[i][0] + 1\n",
    "                out_width = (out_width + 2 * ps[i][1] - ks[i][1]) // ss[i][1] + 1\n",
    "            else:\n",
    "                assert (type(ps[i]) is int) and (type(ks[i]) is int) and (type(ss[i]) is int)\n",
    "                out_height = (out_height + 2 * ps[i] - ks[i]) // ss[i] + 1\n",
    "                out_width = (out_width + 2 * ps[i] - ks[i]) // ss[i] + 1\n",
    "\n",
    "            # Add batch normalization if specified\n",
    "            if batchNormalization:\n",
    "                cnn.add_module('batchnorm{0}'.format(i), nn.BatchNorm2d(nOut))\n",
    "\n",
    "            # Add activation function\n",
    "            if leakyRelu:\n",
    "                cnn.add_module('relu{0}'.format(i),\n",
    "                               nn.LeakyReLU(0.2, inplace=True))\n",
    "            else:\n",
    "                cnn.add_module('relu{0}'.format(i), nn.ReLU(True))\n",
    "\n",
    "            # Add the pooling layer\n",
    "            pooling_kernel = pooling_kernels[i]\n",
    "            pooling_stride = pooling_strides[i]\n",
    "            cnn.add_module('pooling{0}'.format(i), nn.MaxPool2d(pooling_kernel, pooling_stride))\n",
    "            # Update output height and width after pooling\n",
    "            if type(pooling_kernel) is tuple:\n",
    "                assert (type(pooling_stride) is tuple) and (type(pooling_kernel) is tuple)\n",
    "                out_height = (out_height - pooling_kernel[0]) // pooling_stride[0] + 1\n",
    "                out_width = (out_width - pooling_kernel[1]) // pooling_stride[1] + 1\n",
    "            else:\n",
    "                assert (type(pooling_stride) is int) and (type(pooling_kernel) is int)\n",
    "                out_height = (out_height - pooling_kernel) // pooling_stride + 1\n",
    "                out_width = (out_width - pooling_kernel) // pooling_stride + 1\n",
    "                \n",
    "\n",
    "            # Add dropout if specified\n",
    "            if dropout > 0:\n",
    "                cnn.add_module('dropout{0}'.format(i), nn.Dropout(dropout))\n",
    "\n",
    "            # Update input channels for the next layer\n",
    "            nIn = nOut\n",
    "\n",
    "        # Save the CNN layers and output dimensions\n",
    "        self.cnn = cnn\n",
    "        self.height = out_height\n",
    "        self.width = out_width\n",
    "\n",
    "        # Define the fully connected layers\n",
    "        dnn = nn.Sequential()\n",
    "        dnn.add_module('fc1', nn.Linear(nm[-1] * out_height * out_width, \n",
    "                                        fc_sizes[0]\n",
    "                                        ))\n",
    "        dnn.add_module('fc_activation', activation_layer())\n",
    "        for _ in range(1,len(fc_sizes)):\n",
    "            dnn.add_module('fc{0}'.format(_+1), nn.Linear(fc_sizes[_-1], fc_sizes[_]))\n",
    "            dnn.add_module('fc_activation{0}'.format(_+1), activation_layer())\n",
    "        dnn.add_module('fc-1', nn.Linear(fc_sizes[-1], num_classes))\n",
    "        self.fcnn = dnn\n",
    "\n",
    "    def forward(self, x):\n",
    "        \"\"\"Forward pass of the SchMichiganCNN model.\n",
    "\n",
    "        Parameters\n",
    "        ----------\n",
    "        x : torch.Tensor\n",
    "            Input tensor of shape (batch_size, in_channels, height, width).\n",
    "\n",
    "        Returns\n",
    "        -------\n",
    "        torch.Tensor\n",
    "            Output tensor of shape (batch_size, num_classes).\n",
    "        \"\"\"\n",
    "        x = self.cnn(x)\n",
    "        x = x.view(x.size(0), -1) # x.size(0) is the batch size\n",
    "        x = self.fcnn(x)\n",
    "        return x"
   ]
  },
  {
   "cell_type": "markdown",
   "id": "4b2335c3-1010-49df-a377-9aef32a0181d",
   "metadata": {},
   "source": [
    "### Set up the model"
   ]
  },
  {
   "cell_type": "code",
   "execution_count": 64,
   "id": "1c513a55",
   "metadata": {},
   "outputs": [],
   "source": [
    "model = FlexibleCNN(num_classes=len(le.classes_),\n",
    "                    height=X.shape[1],\n",
    "                    width=X.shape[2],\n",
    "                    kernel_sizes=kernel_sizes,\n",
    "                    padding_sizes=padding_sizes,\n",
    "                    stride_sizes=stride_sizes,\n",
    "                    pooling_kernels=pooling_kernels,\n",
    "                    pooling_strides=pooling_strides,\n",
    "                    channel_sizes=channel_sizes, \n",
    "                    fc_sizes=fc_sizes,\n",
    "                    dropout=dropout,\n",
    "                   )\n",
    "\n",
    "# criterion choice\n",
    "criterion = torch.nn.CrossEntropyLoss()\n",
    "\n",
    "# optimizer logic\n",
    "if optimize == 'adam':\n",
    "    optimizer = torch.optim.Adam(model.parameters(), lr=lr)\n",
    "elif optimize == 'sgd':\n",
    "    optimizer = torch.optim.SGD(model.parameters(), lr=lr)\n",
    "elif optimize == 'rmsprop':\n",
    "    optimizer = torch.optim.RMSprop(model.parameters(), lr=lr)\n",
    "else:\n",
    "    raise ValueError(\"Optimizer input is adam, sgd, or rmsprop\")    \n",
    "\n",
    "model    "
   ]
  },
  {
   "cell_type": "code",
   "execution_count": 65,
   "id": "77e9cc00",
   "metadata": {},
   "outputs": [
    {
     "name": "stdout",
     "output_type": "stream",
     "text": [
      "Total Conv2d parameters: 5464\n",
      "Total Fully Connected (Linear) parameters: 110931\n",
      "\n"
     ]
    }
   ],
   "source": [
    "if type(model) == FlexibleCNN:\n",
    "    conv_params = 0\n",
    "    fc_params = 0\n",
    "\n",
    "    for name, param in model.named_parameters():\n",
    "        if 'conv' in name:\n",
    "            conv_params += param.numel()\n",
    "        elif 'fc' in name:\n",
    "            fc_params += param.numel()\n",
    "\n",
    "    print(f\"Total Conv2d parameters: {conv_params}\")\n",
    "    print(f\"Total Fully Connected (Linear) parameters: {fc_params}\")\n",
    "    print()\n"
   ]
  },
  {
   "cell_type": "markdown",
   "id": "d1e85849-11ca-47ac-a30e-e7d77f311513",
   "metadata": {},
   "source": [
    "### Train the model"
   ]
  },
  {
   "cell_type": "code",
   "execution_count": 69,
   "id": "d61435f8",
   "metadata": {},
   "outputs": [
    {
     "name": "stdout",
     "output_type": "stream",
     "text": [
      "Epoch 1/50, Loss: 0.9731\n",
      "Epoch 2/50, Loss: 0.7488\n",
      "Epoch 3/50, Loss: 0.6470\n",
      "Epoch 4/50, Loss: 0.6142\n",
      "Epoch 5/50, Loss: 0.5815\n",
      "Epoch 6/50, Loss: 0.5570\n",
      "Epoch 7/50, Loss: 0.5281\n",
      "Epoch 8/50, Loss: 0.5141\n",
      "Epoch 9/50, Loss: 0.5228\n",
      "Epoch 10/50, Loss: 0.4936\n",
      "Epoch 11/50, Loss: 0.4917\n",
      "Epoch 12/50, Loss: 0.4751\n",
      "Epoch 13/50, Loss: 0.4692\n",
      "Epoch 14/50, Loss: 0.4599\n",
      "Epoch 15/50, Loss: 0.4611\n",
      "Epoch 16/50, Loss: 0.4525\n",
      "Epoch 17/50, Loss: 0.4360\n",
      "Epoch 18/50, Loss: 0.4367\n",
      "Epoch 19/50, Loss: 0.4245\n",
      "Epoch 20/50, Loss: 0.4277\n",
      "Epoch 21/50, Loss: 0.4318\n",
      "Epoch 22/50, Loss: 0.4183\n",
      "Epoch 23/50, Loss: 0.4149\n",
      "Epoch 24/50, Loss: 0.4088\n",
      "Epoch 25/50, Loss: 0.3983\n",
      "Epoch 26/50, Loss: 0.4046\n",
      "Epoch 27/50, Loss: 0.3932\n",
      "Epoch 28/50, Loss: 0.4026\n",
      "Epoch 29/50, Loss: 0.4022\n",
      "Epoch 30/50, Loss: 0.3986\n",
      "Epoch 31/50, Loss: 0.3952\n",
      "Epoch 32/50, Loss: 0.3791\n",
      "Epoch 33/50, Loss: 0.3795\n",
      "Epoch 34/50, Loss: 0.3780\n",
      "Epoch 35/50, Loss: 0.3953\n",
      "Epoch 36/50, Loss: 0.3592\n",
      "Epoch 37/50, Loss: 0.3534\n",
      "Epoch 38/50, Loss: 0.3620\n",
      "Epoch 39/50, Loss: 0.3665\n",
      "Epoch 40/50, Loss: 0.3570\n",
      "Epoch 41/50, Loss: 0.3587\n",
      "Epoch 42/50, Loss: 0.3715\n",
      "Epoch 43/50, Loss: 0.3420\n",
      "Epoch 44/50, Loss: 0.3579\n",
      "Epoch 45/50, Loss: 0.3435\n",
      "Epoch 46/50, Loss: 0.3347\n",
      "Epoch 47/50, Loss: 0.3361\n",
      "Epoch 48/50, Loss: 0.3323\n",
      "Epoch 49/50, Loss: 0.3236\n",
      "Epoch 50/50, Loss: 0.3214\n"
     ]
    }
   ],
   "source": [
    "# Training loop\n",
    "\n",
    "model.to(device)\n",
    "\n",
    "for epoch in range(num_epochs):\n",
    "    model.train()  # Set the model to training mode\n",
    "    running_loss = 0.0\n",
    "\n",
    "    for inputs, labels in train_loader:\n",
    "\n",
    "        # Zero the parameter gradients\n",
    "        optimizer.zero_grad()\n",
    "        inputs = inputs.unsqueeze(1)\n",
    "\n",
    "        # Pass to GPU\n",
    "        inputs = inputs.to(device)\n",
    "        labels = labels.to(device)\n",
    "\n",
    "        # Forward pass\n",
    "        outputs = model(inputs)\n",
    "\n",
    "        # Compute the loss\n",
    "        loss = criterion(outputs, labels)\n",
    "\n",
    "        # Backward pass and optimization\n",
    "        loss.backward()\n",
    "        optimizer.step()\n",
    "\n",
    "        # Accumulate the loss\n",
    "        running_loss += loss.item()\n",
    "\n",
    "    # Print the average loss for this epoch\n",
    "    print(f\"Epoch {epoch + 1}/{num_epochs}, Loss: {running_loss / len(train_loader):.4f}\")"
   ]
  },
  {
   "cell_type": "code",
   "execution_count": 37,
   "id": "3f847192-f1d6-45ad-b4c4-07c0439afbfa",
   "metadata": {},
   "outputs": [],
   "source": [
    "torch.save(model, model_file)"
   ]
  },
  {
   "cell_type": "markdown",
   "id": "8d56c294-340e-4d94-bf60-c09ef76efb25",
   "metadata": {},
   "source": [
    "### Evaluate the model"
   ]
  },
  {
   "cell_type": "code",
   "execution_count": null,
   "id": "22b56776-22c4-40be-8c0d-9d0e29780da7",
   "metadata": {},
   "outputs": [],
   "source": [
    "model = torch.load(model_file, weights_only=False)"
   ]
  },
  {
   "cell_type": "code",
   "execution_count": 47,
   "id": "b9f89a6e",
   "metadata": {},
   "outputs": [
    {
     "name": "stdout",
     "output_type": "stream",
     "text": [
      "Validation Accuracy: 0.8372\n",
      "              precision    recall  f1-score   support\n",
      "\n",
      "        bird       0.79      0.90      0.84       329\n",
      "         dog       0.97      0.91      0.94       266\n",
      "        rain       0.70      0.56      0.62       142\n",
      "\n",
      "    accuracy                           0.84       737\n",
      "   macro avg       0.82      0.79      0.80       737\n",
      "weighted avg       0.84      0.84      0.83       737\n",
      "\n"
     ]
    }
   ],
   "source": [
    "model.to(device)\n",
    "\n",
    "model.eval()\n",
    "all_preds = []\n",
    "all_labels = []\n",
    "\n",
    "with torch.no_grad():\n",
    "    for inputs, labels in test_loader:\n",
    "        inputs = inputs.unsqueeze(1)\n",
    "        inputs = inputs.to(device)\n",
    "        outputs = model(inputs)\n",
    "        _, preds = torch.max(outputs, 1)\n",
    "        all_preds.extend(preds.cpu().numpy())\n",
    "        all_labels.extend(labels.cpu().numpy())\n",
    "\n",
    "# Calculate accuracy\n",
    "accuracy = accuracy_score(all_labels, all_preds)\n",
    "print(f\"Validation Accuracy: {accuracy:.4f}\")\n",
    "\n",
    "# Print classification report\n",
    "print(classification_report(all_labels, all_preds, target_names=le.classes_))"
   ]
  },
  {
   "cell_type": "code",
   "execution_count": 48,
   "id": "5870136e",
   "metadata": {},
   "outputs": [
    {
     "data": {
      "image/png": "[encoded data removed]",
      "text/plain": [
       "<Figure size 600x500 with 2 Axes>"
      ]
     },
     "metadata": {},
     "output_type": "display_data"
    }
   ],
   "source": [
    "cm = confusion_matrix(all_labels, all_preds)\n",
    "plt.figure(figsize=(6, 5))\n",
    "sns.heatmap(cm, annot=True, fmt='d', cmap='Blues', xticklabels=le.classes_, yticklabels=le.classes_)\n",
    "plt.xlabel('Predicted')\n",
    "plt.ylabel('True')\n",
    "plt.title('Confusion Matrix')\n",
    "plt.show()"
   ]
  },
  {
   "cell_type": "code",
   "execution_count": null,
   "id": "30888338-87d5-4375-b0db-67c5d41d08e7",
   "metadata": {},
   "outputs": [],
   "source": [
    "# save some data about evaluation"
   ]
  }
 ],
 "metadata": {
  "kernelspec": {
   "display_name": "Birdclef",
   "language": "python",
   "name": "birdclef"
  },
  "language_info": {
   "codemirror_mode": {
    "name": "ipython",
    "version": 3
   },
   "file_extension": ".py",
   "mimetype": "text/x-python",
   "name": "python",
   "nbconvert_exporter": "python",
   "pygments_lexer": "ipython3",
   "version": "3.12.11"
  }
 },
 "nbformat": 4,
 "nbformat_minor": 5
}
