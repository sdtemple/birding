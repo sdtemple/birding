{
 "cells": [
  {
   "cell_type": "markdown",
   "id": "753a97c3",
   "metadata": {},
   "source": [
    "## This file concatenates data from the tensors and their associated files\n",
    "\n",
    "You may have run the tensorize partially along the alphabet with parameters in the JSON file.\n",
    "\n",
    "You should only run this once, so I did not create a CLI setup. Modify file names in blocks."
   ]
  },
  {
   "cell_type": "code",
   "execution_count": 2,
   "id": "b0c0363a",
   "metadata": {},
   "outputs": [],
   "source": [
    "import os\n",
    "import time\n",
    "import pickle\n",
    "# common math imports\n",
    "import numpy as np\n",
    "import pandas as pd\n",
    "# common audio imports\n",
    "import librosa\n",
    "# common torch imports\n",
    "import torch\n",
    "from torch.utils.data import DataLoader, TensorDataset"
   ]
  },
  {
   "cell_type": "code",
   "execution_count": 8,
   "id": "7f520840",
   "metadata": {},
   "outputs": [
    {
     "data": {
      "text/plain": [
       "torch.Size([144810])"
      ]
     },
     "execution_count": 8,
     "metadata": {},
     "output_type": "execute_result"
    }
   ],
   "source": [
    "# write out the file names\n",
    "file1 = 'bc22-abcde-32/y_tensor.pt'\n",
    "file2 = 'bc22-fghij-32/y_tensor.pt'\n",
    "file3 = 'bc22-klmno-32/y_tensor.pt'\n",
    "file4 = 'bc22-pqrst-32/y_tensor.pt'\n",
    "file5 = 'bc22-uvwxyz-32/y_tensor.pt'\n",
    "\n",
    "# load the tensors from the files\n",
    "y_1 = torch.load(file1)\n",
    "y_2 = torch.load(file2)\n",
    "y_3 = torch.load(file3)\n",
    "y_4 = torch.load(file4)\n",
    "y_5 = torch.load(file5)\n",
    "\n",
    "# save the tensors to a single file\n",
    "y = torch.cat((y_1, y_2, y_3, y_4, y_5), dim=0)\n",
    "torch.save(y, 'bc22-32/y_tensor.pt')"
   ]
  },
  {
   "cell_type": "code",
   "execution_count": 10,
   "id": "c6620697",
   "metadata": {},
   "outputs": [
    {
     "data": {
      "text/plain": [
       "torch.Size([144810, 1, 32, 50])"
      ]
     },
     "execution_count": 10,
     "metadata": {},
     "output_type": "execute_result"
    }
   ],
   "source": [
    "# write out the file names\n",
    "file1 = 'bc22-abcde-32/X_tensor.pt'\n",
    "file2 = 'bc22-fghij-32/X_tensor.pt'\n",
    "file3 = 'bc22-klmno-32/X_tensor.pt'\n",
    "file4 = 'bc22-pqrst-32/X_tensor.pt'\n",
    "file5 = 'bc22-uvwxyz-32/X_tensor.pt'\n",
    "\n",
    "# load the tensors\n",
    "X_1 = torch.load(file1)\n",
    "X_2 = torch.load(file2)\n",
    "X_3 = torch.load(file3)\n",
    "X_4 = torch.load(file4)\n",
    "X_5 = torch.load(file5)\n",
    "X = torch.cat((X_1, X_2, X_3, X_4, X_5), dim=0)\n",
    "\n",
    "# save the concatenated tensor\n",
    "torch.save(X, 'bc22-32/X_tensor.pt')"
   ]
  },
  {
   "cell_type": "code",
   "execution_count": 15,
   "id": "90d90ca7",
   "metadata": {},
   "outputs": [
    {
     "data": {
      "text/plain": [
       "(144810,)"
      ]
     },
     "execution_count": 15,
     "metadata": {},
     "output_type": "execute_result"
    }
   ],
   "source": [
    "file1 = 'bc22-abcde-32/files.csv'\n",
    "file2 = 'bc22-fghij-32/files.csv'\n",
    "file3 = 'bc22-klmno-32/files.csv'\n",
    "file4 = 'bc22-pqrst-32/files.csv'\n",
    "file5 = 'bc22-uvwxyz-32/files.csv'\n",
    "\n",
    "arr1 = np.loadtxt(file1, delimiter=',', dtype=str)\n",
    "arr2 = np.loadtxt(file2, delimiter=',', dtype=str)\n",
    "arr3 = np.loadtxt(file3, delimiter=',', dtype=str)\n",
    "arr4 = np.loadtxt(file4, delimiter=',', dtype=str)\n",
    "arr5 = np.loadtxt(file5, delimiter=',', dtype=str)\n",
    "arr = np.concatenate((arr1, arr2, arr3, arr4, arr5), axis=0)\n",
    "\n",
    "np.savetxt('bc22-32/files.csv', arr, delimiter=',', fmt='%s')"
   ]
  },
  {
   "cell_type": "code",
   "execution_count": 7,
   "id": "8961bfa1",
   "metadata": {},
   "outputs": [],
   "source": [
    "file1 = 'bc22-abcde-32/zc_rates.csv'\n",
    "file2 = 'bc22-fghij-32/zc_rates.csv'\n",
    "file3 = 'bc22-klmno-32/zc_rates.csv'\n",
    "file4 = 'bc22-pqrst-32/zc_rates.csv'\n",
    "file5 = 'bc22-uvwxyz-32/zc_rates.csv'\n",
    "files = [file1, file2, file3, file4, file5]\n",
    "\n",
    "ragged_list = []\n",
    "for file in files: \n",
    "    with open(file, 'r') as f:\n",
    "        for line in f:\n",
    "            _ = np.array(line.strip().split(',')[:-1], dtype=float).tolist()\n",
    "            ragged_list.append(_)\n",
    "\n",
    "with open('bc22-32/zc_rates.pkl', 'wb') as f:\n",
    "    pickle.dump(ragged_list, f)"
   ]
  }
 ],
 "metadata": {
  "kernelspec": {
   "display_name": "birdclef",
   "language": "python",
   "name": "python3"
  },
  "language_info": {
   "codemirror_mode": {
    "name": "ipython",
    "version": 3
   },
   "file_extension": ".py",
   "mimetype": "text/x-python",
   "name": "python",
   "nbconvert_exporter": "python",
   "pygments_lexer": "ipython3",
   "version": "3.12.10"
  }
 },
 "nbformat": 4,
 "nbformat_minor": 5
}
