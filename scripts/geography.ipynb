{
 "cells": [
  {
   "cell_type": "markdown",
   "id": "1e6ab889",
   "metadata": {},
   "source": [
    "## This file finds geographically distinct species with lots of counts"
   ]
  },
  {
   "cell_type": "code",
   "execution_count": null,
   "id": "b1897aca",
   "metadata": {
    "tags": [
     "parameters"
    ]
   },
   "outputs": [],
   "source": [
    "params_file = None\n",
    "input_file = None\n",
    "output_file = None\n",
    "common_file = None"
   ]
  },
  {
   "cell_type": "code",
   "execution_count": null,
   "id": "9b8d0dc2",
   "metadata": {},
   "outputs": [],
   "source": [
    "import pandas as pd\n",
    "import numpy as np\n",
    "import matplotlib.pyplot as plt\n",
    "import cartopy.crs as ccrs\n",
    "import cartopy.feature as cfeature\n",
    "pd.options.mode.chained_assignment = None\n",
    "print()"
   ]
  },
  {
   "cell_type": "code",
   "execution_count": null,
   "id": "2a2f5704",
   "metadata": {},
   "outputs": [],
   "source": [
    "print()\n",
    "import json\n",
    "with open(params_file) as f:\n",
    "    data = json.load(f)\n",
    "min_div = int(data['geography']['min_div_in_block'])\n",
    "min_obs = int(data['geography']['min_obs_in_block'])\n",
    "min_count = int(data['geography']['min_count_species'])\n",
    "slices_per_lat = int(data['geography']['slices_per_lat']) + 1"
   ]
  },
  {
   "cell_type": "code",
   "execution_count": null,
   "id": "2a7cd140",
   "metadata": {},
   "outputs": [
    {
     "data": {
      "text/plain": [
       "['mallar3',\n",
       " 'norcar',\n",
       " 'comsan',\n",
       " 'gnwtea',\n",
       " 'skylar',\n",
       " 'dunlin',\n",
       " 'bcnher',\n",
       " 'houspa',\n",
       " 'brnowl',\n",
       " 'wesmea',\n",
       " 'normoc',\n",
       " 'houfin',\n",
       " 'eurwig',\n",
       " 'cangoo',\n",
       " 'gwfgoo',\n",
       " 'bkbplo',\n",
       " 'gadwal',\n",
       " 'rinphe',\n",
       " 'osprey',\n",
       " 'rorpar']"
      ]
     },
     "execution_count": 122,
     "metadata": {},
     "output_type": "execute_result"
    }
   ],
   "source": [
    "print()\n",
    "# get the most abundant species\n",
    "top_species = []\n",
    "with open(common_file, 'r') as f:\n",
    "    for line in f:\n",
    "        top_species.append(line.strip())\n",
    "\n",
    "# subset the metadata to remove the top species\n",
    "meta = pd.read_csv(input_file)\n",
    "meta = meta[~meta['primary_label'].isin(top_species)]"
   ]
  },
  {
   "cell_type": "markdown",
   "id": "53664217",
   "metadata": {},
   "source": [
    "## Add geographically diverse species that are moderately abundant"
   ]
  },
  {
   "cell_type": "code",
   "execution_count": null,
   "id": "94a7b6d6",
   "metadata": {},
   "outputs": [
    {
     "data": {
      "text/plain": [
       "(-180.0, 180.0)"
      ]
     },
     "execution_count": 124,
     "metadata": {},
     "output_type": "execute_result"
    },
    {
     "data": {
      "image/png": "[encoded data removed]",
      "text/plain": [
       "<Figure size 640x480 with 1 Axes>"
      ]
     },
     "metadata": {},
     "output_type": "display_data"
    }
   ],
   "source": [
    "print()\n",
    "from itertools import product\n",
    "\n",
    "longitudes = np.linspace(-180,180,slices_per_lat)\n",
    "latitudes = np.linspace(-90,90,slices_per_lat)\n",
    "\n",
    "coordinate_pairs = list(product(latitudes, longitudes))\n",
    "coords = np.array(coordinate_pairs)\n",
    "plt.plot(coords[:, 1], coords[:, 0], 'o', markersize=2, alpha=0.33, color='tab:blue')\n",
    "plt.ylim(-90, 90)\n",
    "plt.xlim(-180, 180)"
   ]
  },
  {
   "cell_type": "code",
   "execution_count": null,
   "id": "e880a8e8",
   "metadata": {},
   "outputs": [],
   "source": [
    "\n",
    "print()\n",
    "# Create a figure with an axis\n",
    "fig = plt.figure(figsize=(10, 5))\n",
    "ax = fig.add_subplot(1, 1, 1, projection=ccrs.PlateCarree())\n",
    "\n",
    "# Add map features\n",
    "ax.add_feature(cfeature.LAND)\n",
    "ax.add_feature(cfeature.OCEAN)\n",
    "ax.add_feature(cfeature.COASTLINE)\n",
    "ax.add_feature(cfeature.BORDERS, linestyle='--')\n",
    "\n",
    "# Set extent to the whole world\n",
    "ax.set_extent([-180, 180, -90, 90])\n",
    "plt.plot(meta['longitude'], meta['latitude'], 'o', markersize=1, alpha=0.1, color='tab:red')\n",
    "\n",
    "# Define the grid size\n",
    "lat_bins = np.linspace(-90, 90, slices_per_lat)  # latitude bins\n",
    "lon_bins = np.linspace(-180, 180, slices_per_lat)  # longitude bins\n",
    "\n",
    "# Assign each data point to a grid cell\n",
    "meta['lat_bin'] = pd.cut(meta['latitude'], bins=lat_bins, labels=lat_bins[:-1])\n",
    "meta['lon_bin'] = pd.cut(meta['longitude'], bins=lon_bins, labels=lon_bins[:-1])\n",
    "\n",
    "# Group the data by grid cells\n",
    "grouped_data = meta.groupby(['lat_bin', 'lon_bin'])\n",
    "\n",
    "# Example: Access data for a specific grid cell\n",
    "geographically_abundant = []\n",
    "for (lat_bin, lon_bin), group in grouped_data:\n",
    "    sz = group.shape[0]\n",
    "    di = group['primary_label'].unique().shape[0]\n",
    "    if sz > min_obs and di > min_div:\n",
    "        most_abundant = group['primary_label'].value_counts().index.tolist()[0]\n",
    "        geographically_abundant.append(most_abundant)\n",
    "        plt.scatter(lon_bin, lat_bin, color='tab:green', s=25)"
   ]
  },
  {
   "cell_type": "code",
   "execution_count": null,
   "id": "c95aac53",
   "metadata": {},
   "outputs": [],
   "source": [
    "print()\n",
    "geo_abu = np.unique(geographically_abundant)\n",
    "ga = meta[meta['primary_label'].isin(geo_abu)]\n",
    "vc_indices = ga['primary_label'].value_counts().index.to_list()\n",
    "vc_counts = ga['primary_label'].value_counts().values\n",
    "with open(output_file, 'w') as f:\n",
    "    for i in range(len(vc_indices)):\n",
    "        if vc_counts[i] > min_count:\n",
    "            item = vc_indices[i]\n",
    "            f.write(\"%s\\n\" % item)"
   ]
  },
  {
   "cell_type": "markdown",
   "id": "51cb8f33",
   "metadata": {},
   "source": [
    "## Add some moderately abundant species in for island/isolated data"
   ]
  },
  {
   "cell_type": "code",
   "execution_count": null,
   "id": "ba027efe",
   "metadata": {},
   "outputs": [],
   "source": [
    "print()\n",
    "islands = []\n",
    "\n",
    "meta = meta[~meta['primary_label'].isin(geo_abu)]\n",
    "\n",
    "# New Zealand\n",
    "subtable = meta[(meta['latitude']<-30)&(meta['latitude']>-50)&(meta['longitude']>160)&(meta['longitude']<180)]\n",
    "most_abundant = subtable['primary_label'].value_counts().index.to_list()[:2]\n",
    "islands += most_abundant\n",
    "\n",
    "# Iceland\n",
    "subtable = meta[(meta['latitude']<67)&(meta['latitude']>62)&(meta['longitude']>-25)&(meta['longitude']<-14)]\n",
    "most_abundant = subtable['primary_label'].value_counts().index.to_list()[:2]\n",
    "islands += most_abundant\n",
    "\n",
    "# Australia\n",
    "subtable = meta[(meta['latitude']<-10)&(meta['latitude']>-45)&(meta['longitude']>110)&(meta['longitude']<160)]\n",
    "most_abundant = subtable['primary_label'].value_counts().index.to_list()[:2]\n",
    "islands += most_abundant\n",
    "\n",
    "# Svalbard\n",
    "subtable = meta[(meta['latitude']<82)&(meta['latitude']>73)&(meta['longitude']>10)&(meta['longitude']<35)]\n",
    "most_abundant = subtable['primary_label'].value_counts().index.to_list()[:2]\n",
    "islands += most_abundant\n",
    "\n",
    "# Taiwan\n",
    "subtable = meta[(meta['latitude']<26)&(meta['latitude']>21)&(meta['longitude']>120)&(meta['longitude']<122)]\n",
    "most_abundant = subtable['primary_label'].value_counts().index.to_list()[:2]\n",
    "islands += most_abundant\n",
    "\n",
    "# South Africa\n",
    "subtable = meta[(meta['latitude']<-15)&(meta['latitude']>-35)&(meta['longitude']>15)&(meta['longitude']<35)]\n",
    "most_abundant = subtable['primary_label'].value_counts().index.to_list()[:2]\n",
    "islands += most_abundant\n",
    "\n",
    "# South Africa\n",
    "subtable = meta[(meta['latitude']<-15)&(meta['latitude']>-35)&(meta['longitude']>15)&(meta['longitude']<35)]\n",
    "most_abundant = subtable['primary_label'].value_counts().index.to_list()[:2]\n",
    "islands += most_abundant\n",
    "\n",
    "# -stan\n",
    "subtable = meta[(meta['latitude']<48)&(meta['latitude']>35)&(meta['longitude']>56)&(meta['longitude']<75)]\n",
    "most_abundant = subtable['primary_label'].value_counts().index.to_list()[:2]\n",
    "islands += most_abundant\n",
    "\n",
    "# Indonesia-like\n",
    "subtable = meta[(meta['latitude']<12)&(meta['latitude']>-8)&(meta['longitude']>90)&(meta['longitude']<140)]\n",
    "most_abundant = subtable['primary_label'].value_counts().index.to_list()[:2]\n",
    "islands += most_abundant\n",
    "\n",
    "# Anchorage\n",
    "subtable = meta[(meta['latitude']<65)&(meta['latitude']>59)&(meta['longitude']>-153)&(meta['longitude']<-146)]\n",
    "most_abundant = subtable['primary_label'].value_counts().index.to_list()[:2]\n",
    "islands += most_abundant\n",
    "\n",
    "# Israel-like\n",
    "subtable = meta[(meta['latitude']<35)&(meta['latitude']>25)&(meta['longitude']>33)&(meta['longitude']<37)]\n",
    "most_abundant = subtable['primary_label'].value_counts().index.to_list()[:2]\n",
    "islands += most_abundant"
   ]
  },
  {
   "cell_type": "code",
   "execution_count": null,
   "id": "9ff79f6d",
   "metadata": {},
   "outputs": [
    {
     "ename": "",
     "evalue": "",
     "output_type": "error",
     "traceback": [
      "\u001b[1;31mThe Kernel crashed while executing code in the current cell or a previous cell. \n",
      "\u001b[1;31mPlease review the code in the cell(s) to identify a possible cause of the failure. \n",
      "\u001b[1;31mClick <a href='https://aka.ms/vscodeJupyterKernelCrash'>here</a> for more info. \n",
      "\u001b[1;31mView Jupyter <a href='command:jupyter.viewOutput'>log</a> for further details."
     ]
    }
   ],
   "source": [
    "print()\n",
    "island_data = meta[meta['primary_label'].isin(np.unique(islands))]\n",
    "island_data['primary_label'].value_counts()\n",
    "\n",
    "vc_indices = island_data['primary_label'].value_counts().index.to_list()\n",
    "vc_counts = island_data['primary_label'].value_counts().values\n",
    "with open(output_file, 'a') as f:\n",
    "    for i in range(len(vc_indices)):\n",
    "        if vc_counts[i] > min_count:\n",
    "            item = vc_indices[i]\n",
    "            f.write(\"%s\\n\" % item)"
   ]
  }
 ],
 "metadata": {
  "kernelspec": {
   "display_name": "whitesalmon",
   "language": "python",
   "name": "python3"
  },
  "language_info": {
   "codemirror_mode": {
    "name": "ipython",
    "version": 3
   },
   "file_extension": ".py",
   "mimetype": "text/x-python",
   "name": "python",
   "nbconvert_exporter": "python",
   "pygments_lexer": "ipython3",
   "version": "3.12.9"
  }
 },
 "nbformat": 4,
 "nbformat_minor": 5
}
