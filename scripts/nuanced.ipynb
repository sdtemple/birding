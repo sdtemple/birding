{
 "cells": [
  {
   "cell_type": "markdown",
   "id": "b3680b2b",
   "metadata": {},
   "source": [
    "## This file makes some further categories"
   ]
  },
  {
   "cell_type": "code",
   "execution_count": null,
   "id": "fe289f37",
   "metadata": {
    "tags": [
     "parameters"
    ]
   },
   "outputs": [],
   "source": [
    "params_file = None\n",
    "input_file = None\n",
    "output_file = None"
   ]
  },
  {
   "cell_type": "code",
   "execution_count": 6,
   "id": "ea0ea0be",
   "metadata": {},
   "outputs": [],
   "source": [
    "import pandas as pd\n",
    "import numpy as np\n",
    "import re\n",
    "pd.options.mode.chained_assignment = None"
   ]
  },
  {
   "cell_type": "code",
   "execution_count": null,
   "id": "125accc7",
   "metadata": {},
   "outputs": [],
   "source": [
    "import json\n",
    "with open(params_file) as f:\n",
    "    data = json.load(f)\n",
    "min_count = int(data['nuanced_categories']['min_count_species'])\n",
    "min_scalar = float(data['nuanced_categories']['min_scalar'])\n",
    "min_prop = float(data['nuanced_categories']['min_prop'])\n",
    "prefix = data['nuanced_categories']['prefix']"
   ]
  },
  {
   "cell_type": "code",
   "execution_count": null,
   "id": "55035929",
   "metadata": {},
   "outputs": [],
   "source": [
    "meta = pd.read_csv(input_file)\n",
    "meta['primefolder'] = meta['filename'].apply(lambda x: x.split('/')[0])\n",
    "meta['oggname'] = meta['filename'].apply(lambda x: x.split('/')[1])\n",
    "meta['audio'] = meta['filename'].apply(lambda x: 'train_audio/' + x)"
   ]
  },
  {
   "cell_type": "markdown",
   "id": "cc4d2d37",
   "metadata": {},
   "source": [
    "## Calculate the time of day variable"
   ]
  },
  {
   "cell_type": "code",
   "execution_count": 102,
   "metadata": {},
   "outputs": [
    {
     "data": {
      "text/plain": [
       "<Axes: title={'center': 'Time of Day'}, xlabel='Time of Day', ylabel='Count'>"
      ]
     },
     "execution_count": 102,
     "metadata": {},
     "output_type": "execute_result"
    },
    {
     "data": {
      "image/png": "[encoded data removed]",
      "text/plain": [
       "<Figure size 640x480 with 1 Axes>"
      ]
     },
     "metadata": {},
     "output_type": "display_data"
    }
   ],
   "source": [
    "# Calculate the time of day\n",
    "bins = [0, 4, 8, 12, 16, 20, 24]  # Define the bin edges\n",
    "labels = ['Night2', 'Dawn', 'Morning', 'Afternoon', 'Dusk', 'Night1']  # Define the labels for the bins\n",
    "meta['time_of_day'] = pd.cut(meta['hour_int'] % 24, bins=bins, labels=labels, right=False)\n",
    "# meta[['hour_int', 'time_of_day']].head()\n",
    "meta['time_of_day'].value_counts().plot(kind='bar', title='Time of Day', xlabel='Time of Day', ylabel='Count')"
   ]
  },
  {
   "cell_type": "markdown",
   "id": "a59c3c72",
   "metadata": {},
   "source": [
    "## Gather data about sex, life stage, types of calls, and time of day"
   ]
  },
  {
   "cell_type": "code",
   "execution_count": 103,
   "id": "6bfebc07",
   "metadata": {},
   "outputs": [],
   "source": [
    "\n",
    "# process the type column\n",
    "meta['type_list'] = meta['type'].apply(lambda x: x.strip('[]\\'').split(', ')).tolist()\n",
    "meta['type_list'] = meta['type_list'].apply(lambda x: [_.strip('\\'') for _ in x])\n",
    "meta['type_list'] = meta['type_list'].apply(lambda x: [item.lower() for item in x])\n",
    "meta['type_list'] = meta['type_list'].apply(lambda x: [item.replace(' ','') for item in x])\n",
    "\n",
    "# gather nlp information\n",
    "meta['flightcall'] = meta['type_list'].apply(lambda x: 1 if 'flightcall' in x else 0)\n",
    "meta['call'] = meta['type_list'].apply(lambda x: 1 if 'call' in x else 0)\n",
    "meta['song'] = meta['type_list'].apply(lambda x: 1 if 'song' in x else 0)\n",
    "meta['nocturnalflightcall'] = meta['type_list'].apply(lambda x: 1 if 'nocturnalflightcall' in x else 0)\n",
    "meta['alarmcall'] = meta['type_list'].apply(lambda x: 1 if 'alarmcall' in x else 0)\n",
    "meta['beggingcall'] = meta['type_list'].apply(lambda x: 1 if 'beggingcall' in x else 0)\n",
    "meta['male'] = meta['type_list'].apply(lambda x: 1 if 'male' in x else 0)\n",
    "meta['female'] = meta['type_list'].apply(lambda x: 1 if 'female' in x else 0)\n",
    "meta['sexuncertain'] = meta['type_list'].apply(lambda x: 1 if 'sexuncertain' in x else 0)\n",
    "meta['adult'] = meta['type_list'].apply(lambda x: 1 if 'adult' in x else 0)\n",
    "meta['juvenile'] = meta['type_list'].apply(lambda x: 1 if 'juvenile' in x else 0)\n",
    "meta['lifestageuncertain'] = meta['type_list'].apply(lambda x: 1 if 'lifestageuncertain' in x else 0)\n",
    "\n",
    "# combine some nlp info with regular expressions\n",
    "meta['flight_any'] = meta['type_list'].apply(lambda x: 1 if any(re.search(r'flight', item) for item in x) else 0)\n",
    "meta['song_any'] = meta['type_list'].apply(lambda x: 1 if any(re.search(r'song', item) for item in x) else 0)\n",
    "meta['nocturnal_any'] = meta['type_list'].apply(lambda x: 1 if any(re.search(r'nocturnal', item) for item in x) else 0)\n",
    "meta['alarm_any'] = meta['type_list'].apply(lambda x: 1 if any(re.search(r'alarm', item) for item in x) else 0)\n",
    "meta['wing_any'] = meta['type_list'].apply(lambda x: 1 if any(re.search(r'wing', item) for item in x) else 0)\n",
    "meta['begging_any'] = meta['type_list'].apply(lambda x: 1 if any(re.search(r'begging', item) for item in x) else 0)"
   ]
  },
  {
   "cell_type": "markdown",
   "id": "4023a030",
   "metadata": {},
   "source": [
    "## Augment labels with sex, life stage, types of calls, and time of day"
   ]
  },
  {
   "cell_type": "code",
   "execution_count": 104,
   "id": "a95b7686",
   "metadata": {},
   "outputs": [],
   "source": [
    "# augment the labels\n",
    "\n",
    "def augment_sex(row):\n",
    "    if row['male']:\n",
    "        return row['primary_label'] + '_male'\n",
    "    elif row['female']:\n",
    "        return row['primary_label'] + '_female'\n",
    "    elif row['sexuncertain']:\n",
    "        return row['primary_label'] + '_other'\n",
    "    else:\n",
    "        return row['primary_label'] + '_other'\n",
    "    \n",
    "def augment_lifestage(row):\n",
    "    if row['adult']:\n",
    "        return row['primary_label'] + '_adult'\n",
    "    elif row['juvenile']:\n",
    "        return row['primary_label'] + '_juvenile'\n",
    "    elif row['lifestageuncertain']:\n",
    "        return row['primary_label'] + '_other'\n",
    "    else:\n",
    "        return row['primary_label'] + '_other'\n",
    "    \n",
    "def augment_activity(row):\n",
    "    if row['song_any']:\n",
    "        return row['primary_label'] + '_song'\n",
    "    elif row['flight_any']:\n",
    "        return row['primary_label'] + '_flight'\n",
    "    elif row['alarm_any']:\n",
    "        return row['primary_label'] + '_alarm'\n",
    "    elif row['begging_any']:\n",
    "        return row['primary_label'] + '_begging'\n",
    "    elif row['wing_any']:\n",
    "        return row['primary_label'] + '_wing'\n",
    "    elif row['call']:\n",
    "        return row['primary_label'] + '_call'\n",
    "    else:\n",
    "        return row['primary_label'] + '_other'\n",
    "    \n",
    "def augment_time(row):\n",
    "    if row['time_of_day'] == 'Night1':\n",
    "        return row['primary_label'] + '_night'\n",
    "    elif row['time_of_day'] == 'Night2':\n",
    "        return row['primary_label'] + '_night'\n",
    "    elif row['time_of_day'] == 'Dawn':\n",
    "        return row['primary_label'] + '_dawn'\n",
    "    elif row['time_of_day'] == 'Dusk':\n",
    "        return row['primary_label'] + '_dusk'\n",
    "    elif row['time_of_day'] == 'Morning':\n",
    "        return row['primary_label'] + '_morning'\n",
    "    elif row['time_of_day'] == 'Afternoon':\n",
    "        return row['primary_label'] + '_afternoon'\n",
    "    else:\n",
    "        # This should not happen\n",
    "        # Because I filtered on time of day\n",
    "        return row['primary_label'] + '_unknown'"
   ]
  },
  {
   "cell_type": "code",
   "execution_count": 105,
   "id": "2b28ebf6",
   "metadata": {},
   "outputs": [],
   "source": [
    "meta['primary_label_time'] = meta.apply(augment_time, axis=1)\n",
    "meta['primary_label_activity'] = meta.apply(augment_activity, axis=1)\n",
    "meta['primary_label_sex'] = meta.apply(augment_sex, axis=1)\n",
    "meta['primary_label_lifestage'] = meta.apply(augment_lifestage, axis=1)"
   ]
  },
  {
   "cell_type": "code",
   "execution_count": null,
   "id": "cea650e2",
   "metadata": {},
   "outputs": [],
   "source": [
    "# This should already be the case\n",
    "meta.sort_values(by=['primary_label'], inplace=True)\n",
    "animals = meta['primary_label'].unique()\n",
    "\n",
    "# Modify the labels based on the minimum count\n",
    "# Cannot create a subcategory if the count is less than min_count\n",
    "feature = 'sex'\n",
    "labels = []\n",
    "for animal in animals:\n",
    "    sub = meta[meta['primary_label'] == animal]\n",
    "    vc_ct = sub['primary_label_' + feature].value_counts()\n",
    "    vc_idx = sub['primary_label_' + feature].value_counts().index.tolist()\n",
    "    pr = sum(vc_ct[vc_ct > min_count]) / sub.shape[0]\n",
    "    if pr >= min_prop and sum(vc_ct) > min_count * min_scalar:\n",
    "        labels += sub['primary_label_' + feature].to_list()\n",
    "    else:\n",
    "        labels += [animal for _ in range(sub.shape[0])]\n",
    "meta['primary_label_sex_v2'] = labels\n",
    "\n",
    "# Modify the labels based on the minimum count\n",
    "# Cannot create a subcategory if the count is less than min_count\n",
    "feature = 'time'\n",
    "labels = []\n",
    "for animal in animals:\n",
    "    sub = meta[meta['primary_label'] == animal]\n",
    "    vc_ct = sub['primary_label_' + feature].value_counts()\n",
    "    vc_idx = sub['primary_label_' + feature].value_counts().index.tolist()\n",
    "    pr = sum(vc_ct[vc_ct > min_count]) / sub.shape[0]\n",
    "    if pr >= min_prop and sum(vc_ct) > min_count * min_scalar:\n",
    "        labels += sub['primary_label_' + feature].to_list()\n",
    "    else:\n",
    "        labels += [animal for _ in range(sub.shape[0])]\n",
    "meta['primary_label_time_v2'] = labels\n",
    "\n",
    "# Modify the labels based on the minimum count\n",
    "# Cannot create a subcategory if the count is less than min_count\n",
    "feature = 'activity'\n",
    "labels = []\n",
    "for animal in animals:\n",
    "    sub = meta[meta['primary_label'] == animal]\n",
    "    vc_ct = sub['primary_label_' + feature].value_counts()\n",
    "    vc_idx = sub['primary_label_' + feature].value_counts().index.tolist()\n",
    "    pr = sum(vc_ct[vc_ct > min_count]) / len(vc_ct)\n",
    "    pr = sum(vc_ct[vc_ct > min_count]) / sub.shape[0]\n",
    "    if pr >= min_prop and sum(vc_ct) > min_count * min_scalar:\n",
    "        labels += sub['primary_label_' + feature].to_list()\n",
    "    else:\n",
    "        labels += [animal for _ in range(sub.shape[0])]\n",
    "meta['primary_label_activity_v2'] = labels\n",
    "\n",
    "# Modify the labels based on the minimum count\n",
    "# Cannot create a subcategory if the count is less than min_count\n",
    "feature = 'lifestage'\n",
    "labels = []\n",
    "for animal in animals:\n",
    "    sub = meta[meta['primary_label'] == animal]\n",
    "    vc_ct = sub['primary_label_' + feature].value_counts()\n",
    "    vc_idx = sub['primary_label_' + feature].value_counts().index.tolist()\n",
    "    pr = sum(vc_ct[vc_ct > min_count]) / sub.shape[0]\n",
    "    if pr >= min_prop and sum(vc_ct) > min_count * min_scalar:\n",
    "        labels += sub['primary_label_' + feature].to_list()\n",
    "    else:\n",
    "        labels += [animal for _ in range(sub.shape[0])]\n",
    "meta['primary_label_lifestage_v2'] = labels\n",
    "\n"
   ]
  },
  {
   "cell_type": "markdown",
   "id": "04823f1a",
   "metadata": {},
   "source": [
    "## Report some summary statistics"
   ]
  },
  {
   "cell_type": "code",
   "execution_count": 123,
   "id": "0c9a0f64",
   "metadata": {},
   "outputs": [
    {
     "name": "stdout",
     "output_type": "stream",
     "text": [
      "Number of unique labels:\n",
      "---------------------\n",
      "Primary, Activity, Sex, Time, Lifestage\n",
      "(150, 344, 232, 281, 246)\n",
      "\n"
     ]
    }
   ],
   "source": [
    "print('Number of unique labels:')\n",
    "print('---------------------')\n",
    "print('Primary, Activity, Sex, Time, Lifestage')\n",
    "print((len(meta['primary_label'].unique()),\n",
    "    len(meta['primary_label_activity_v2'].unique()),\n",
    "    len(meta['primary_label_sex_v2'].unique()),\n",
    "    len(meta['primary_label_time_v2'].unique()),\n",
    "    len(meta['primary_label_lifestage_v2'].unique()),\n",
    " ))\n",
    "print()\n"
   ]
  },
  {
   "cell_type": "code",
   "execution_count": 119,
   "id": "e05d3eba",
   "metadata": {},
   "outputs": [
    {
     "name": "stdout",
     "output_type": "stream",
     "text": [
      "Activity\n",
      "-------------------\n",
      "Number of unique labels:\n",
      "All augmented labels, Lots of augmented labels, Lots of primary labels\n",
      "344 146 150 93\n",
      "\n"
     ]
    }
   ],
   "source": [
    "labels = meta['primary_label_activity_v2'].value_counts().index\n",
    "counts = meta['primary_label_activity_v2'].value_counts().values\n",
    "labels_primary = meta['primary_label'].value_counts().index\n",
    "counts_primary = meta['primary_label'].value_counts().values\n",
    "print('Activity')\n",
    "print('-------------------')\n",
    "print('Number of unique labels:')\n",
    "print('All augmented labels, Lots of augmented labels, Lots of primary labels')\n",
    "print(len(labels), len(labels[counts > min_count]), len(labels_primary.unique()), len(labels_primary[counts_primary > min_count]))\n",
    "print()\n"
   ]
  },
  {
   "cell_type": "code",
   "execution_count": 120,
   "id": "855a67d8",
   "metadata": {},
   "outputs": [
    {
     "name": "stdout",
     "output_type": "stream",
     "text": [
      "Sex\n",
      "-------------------\n",
      "Number of unique labels:\n",
      "All augmented labels, Lots of augmented labels, Lots of primary labels\n",
      "232 111 150 93\n",
      "\n"
     ]
    }
   ],
   "source": [
    "labels = meta['primary_label_sex_v2'].value_counts().index\n",
    "counts = meta['primary_label_sex_v2'].value_counts().values\n",
    "labels_primary = meta['primary_label'].value_counts().index\n",
    "counts_primary = meta['primary_label'].value_counts().values\n",
    "print('Sex')\n",
    "print('-------------------')\n",
    "print('Number of unique labels:')\n",
    "print('All augmented labels, Lots of augmented labels, Lots of primary labels')\n",
    "print(len(labels), len(labels[counts > min_count]), len(labels_primary.unique()), len(labels_primary[counts_primary > min_count]))\n",
    "print()"
   ]
  },
  {
   "cell_type": "code",
   "execution_count": 121,
   "id": "06d306bb",
   "metadata": {},
   "outputs": [
    {
     "name": "stdout",
     "output_type": "stream",
     "text": [
      "Life stage\n",
      "--------------------\n",
      "Number of unique labels:\n",
      "All augmented labels, Lots of augmented labels, Lots of primary labels\n",
      "246 107 150 93\n",
      "\n"
     ]
    }
   ],
   "source": [
    "labels = meta['primary_label_lifestage_v2'].value_counts().index\n",
    "counts = meta['primary_label_lifestage_v2'].value_counts().values\n",
    "labels_primary = meta['primary_label'].value_counts().index\n",
    "counts_primary = meta['primary_label'].value_counts().values\n",
    "print('Life stage')\n",
    "print('--------------------')\n",
    "print('Number of unique labels:')\n",
    "print('All augmented labels, Lots of augmented labels, Lots of primary labels')\n",
    "print(len(labels), len(labels[counts > min_count]), len(labels_primary.unique()), len(labels_primary[counts_primary > min_count]))\n",
    "print()"
   ]
  },
  {
   "cell_type": "code",
   "execution_count": 122,
   "id": "ac302e57",
   "metadata": {},
   "outputs": [
    {
     "name": "stdout",
     "output_type": "stream",
     "text": [
      "Time of day\n",
      "-------------------\n",
      "Number of unique labels:\n",
      "All augmented labels, Lots of augmented labels, Lots of primary labels\n",
      "281 181 150 93\n",
      "\n"
     ]
    }
   ],
   "source": [
    "labels = meta['primary_label_time_v2'].value_counts().index\n",
    "counts = meta['primary_label_time_v2'].value_counts().values\n",
    "labels_primary = meta['primary_label'].value_counts().index\n",
    "counts_primary = meta['primary_label'].value_counts().values\n",
    "print('Time of day')\n",
    "print('-------------------')\n",
    "print('Number of unique labels:')\n",
    "print('All augmented labels, Lots of augmented labels, Lots of primary labels')\n",
    "print(len(labels), len(labels[counts > min_count]), len(labels_primary.unique()), len(labels_primary[counts_primary > min_count]))\n",
    "print()"
   ]
  },
  {
   "cell_type": "markdown",
   "id": "e6e18d78",
   "metadata": {},
   "source": [
    "## Subset based on these features"
   ]
  },
  {
   "cell_type": "code",
   "execution_count": null,
   "id": "d2642396",
   "metadata": {},
   "outputs": [
    {
     "name": "stdout",
     "output_type": "stream",
     "text": [
      "9644 10902\n"
     ]
    }
   ],
   "source": [
    "# Types of calls\n",
    "labels = meta['primary_label_activity_v2'].value_counts().index\n",
    "counts = meta['primary_label_activity_v2'].value_counts().values\n",
    "kept_labels = labels[counts > min_count]\n",
    "sub = meta[meta['primary_label_activity_v2'].isin(kept_labels)]\n",
    "sub.to_csv(prefix + '_activity.csv', index=False)\n",
    "print(sub.shape[0], meta.shape[0])"
   ]
  },
  {
   "cell_type": "code",
   "execution_count": null,
   "id": "9e8940fa",
   "metadata": {},
   "outputs": [
    {
     "name": "stdout",
     "output_type": "stream",
     "text": [
      "10082 10902\n"
     ]
    }
   ],
   "source": [
    "# Sex\n",
    "labels = meta['primary_label_sex_v2'].value_counts().index\n",
    "counts = meta['primary_label_sex_v2'].value_counts().values\n",
    "kept_labels = labels[counts > min_count]\n",
    "sub = meta[meta['primary_label_sex_v2'].isin(kept_labels)]\n",
    "sub.to_csv(prefix + '_sex.csv', index=False)\n",
    "print(sub.shape[0], meta.shape[0])"
   ]
  },
  {
   "cell_type": "code",
   "execution_count": null,
   "id": "6ca71653",
   "metadata": {},
   "outputs": [
    {
     "name": "stdout",
     "output_type": "stream",
     "text": [
      "9827 10902\n"
     ]
    }
   ],
   "source": [
    "# Life stage\n",
    "labels = meta['primary_label_lifestage_v2'].value_counts().index\n",
    "counts = meta['primary_label_lifestage_v2'].value_counts().values\n",
    "kept_labels = labels[counts > min_count]\n",
    "sub = meta[meta['primary_label_lifestage_v2'].isin(kept_labels)]\n",
    "sub.to_csv(prefix + '_lifestage.csv', index=False)\n",
    "print(sub.shape[0], meta.shape[0])"
   ]
  },
  {
   "cell_type": "code",
   "execution_count": null,
   "id": "657c935a",
   "metadata": {},
   "outputs": [
    {
     "name": "stdout",
     "output_type": "stream",
     "text": [
      "9960 10902\n"
     ]
    }
   ],
   "source": [
    "# Time of day\n",
    "labels = meta['primary_label_time_v2'].value_counts().index\n",
    "counts = meta['primary_label_time_v2'].value_counts().values\n",
    "kept_labels = labels[counts > min_count]\n",
    "sub = meta[meta['primary_label_time_v2'].isin(kept_labels)]\n",
    "sub.to_csv(prefix + '_time.csv', index=False)\n",
    "print(sub.shape[0], meta.shape[0])"
   ]
  },
  {
   "cell_type": "markdown",
   "id": "6042ede2",
   "metadata": {},
   "source": [
    "## Save all the featurized data"
   ]
  },
  {
   "cell_type": "code",
   "execution_count": null,
   "id": "275cb93a",
   "metadata": {},
   "outputs": [],
   "source": [
    "meta.to_csv(output_file, index=False)"
   ]
  }
 ],
 "metadata": {
  "kernelspec": {
   "display_name": "whitesalmon",
   "language": "python",
   "name": "python3"
  },
  "language_info": {
   "codemirror_mode": {
    "name": "ipython",
    "version": 3
   },
   "file_extension": ".py",
   "mimetype": "text/x-python",
   "name": "python",
   "nbconvert_exporter": "python",
   "pygments_lexer": "ipython3",
   "version": "3.12.9"
  }
 },
 "nbformat": 4,
 "nbformat_minor": 5
}
