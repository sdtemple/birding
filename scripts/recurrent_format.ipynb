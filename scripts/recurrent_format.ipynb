{
 "cells": [
  {
   "cell_type": "markdown",
   "id": "6305a1cc",
   "metadata": {},
   "source": [
    "## This file prepares data for recurrent and LSTM models\n",
    "\n",
    "If current data is single point prediction with CNNs"
   ]
  },
  {
   "cell_type": "code",
   "execution_count": null,
   "id": "62f291e1",
   "metadata": {},
   "outputs": [],
   "source": [
    "# common math imports\n",
    "import numpy as np\n",
    "# common torch imports\n",
    "import torch"
   ]
  },
  {
   "cell_type": "code",
   "execution_count": null,
   "id": "d77ce136",
   "metadata": {
    "tags": [
     "parameters"
    ]
   },
   "outputs": [],
   "source": [
    "y_input = None\n",
    "y_target = None\n",
    "X_input = None\n",
    "X_target = None\n",
    "params_file = None\n",
    "file_names = None"
   ]
  },
  {
   "cell_type": "code",
   "execution_count": null,
   "id": "a0604bc1",
   "metadata": {},
   "outputs": [],
   "source": [
    "# process data in json file\n",
    "import json\n",
    "with open(params_file) as f:\n",
    "    params = json.load(f)\n",
    "frame_duration = float(params['tensorize']['frame_duration'])\n",
    "num_seconds = float(params['tensorize']['num_seconds'])\n",
    "n_mels = int(params['tensorize']['n_mels'])\n",
    "seq_len = int(params['recurrent_format']['seq_len'])\n",
    "window_size = int(num_seconds / frame_duration)"
   ]
  },
  {
   "cell_type": "code",
   "execution_count": null,
   "id": "eeba70ed",
   "metadata": {},
   "outputs": [
    {
     "name": "stdout",
     "output_type": "stream",
     "text": [
      "['birdclef-2022/train_audio/afrsil1/XC125458.ogg'\n",
      " 'birdclef-2022/train_audio/afrsil1/XC125458.ogg'\n",
      " 'birdclef-2022/train_audio/afrsil1/XC125458.ogg'\n",
      " 'birdclef-2022/train_audio/afrsil1/XC175522.ogg'\n",
      " 'birdclef-2022/train_audio/afrsil1/XC175522.ogg']\n"
     ]
    }
   ],
   "source": [
    "# load in the data\n",
    "fileX = X_input\n",
    "fileY = y_input\n",
    "X = torch.load(fileX)\n",
    "y = torch.load(fileY)\n",
    "file_list = np.loadtxt(file_names, delimiter=',', dtype=str)\n",
    "\n",
    "assert X.shape[0] == y.shape[0]\n",
    "assert X.shape[0] == len(file_list)\n",
    "print(file_list[:5])"
   ]
  },
  {
   "cell_type": "code",
   "execution_count": null,
   "id": "1a452984",
   "metadata": {},
   "outputs": [
    {
     "name": "stdout",
     "output_type": "stream",
     "text": [
      "X_rnn shape: torch.Size([22793, 10, 32, 50])\n",
      "y_rnn shape: torch.Size([22793, 10])\n"
     ]
    }
   ],
   "source": [
    "# setup the data\n",
    "X_fill = []\n",
    "y_fill = []\n",
    "X = X.squeeze()\n",
    "y = y.squeeze()\n",
    "X_arr = X.numpy()\n",
    "y_arr = y.numpy()\n",
    "curr_file = file_list[0]\n",
    "X_list = []\n",
    "y_list = []\n",
    "X_list.append(X_arr[0])\n",
    "y_list.append(y_arr[0])\n",
    "num_files = len(file_list)\n",
    "itr = 1\n",
    "for i in range(1, num_files):\n",
    "    itr += 1\n",
    "    next_file = file_list[i]\n",
    "    # not the same bird recording\n",
    "    # but care if last obs. of bird completed sequence\n",
    "    if (curr_file != next_file) and (itr > 1):\n",
    "        itr -= 1\n",
    "        seq_diff = seq_len - itr\n",
    "        # fill rest of the sequence with zeros\n",
    "        for _ in range(seq_diff):\n",
    "            X_list.append(np.zeros((n_mels, window_size), dtype=np.float16))\n",
    "            y_list.append(np.int16(0))\n",
    "        X_fill.append(X_list)\n",
    "        y_fill.append(y_list)\n",
    "        itr = 1\n",
    "        X_list = []\n",
    "        y_list = []\n",
    "        X_list.append(X_arr[i])\n",
    "        y_list.append(y_arr[i])\n",
    "\n",
    "    # not the same bird recording\n",
    "    # but the last obs. completed the sequence\n",
    "    # so we don't want to prematurely fill the sequence\n",
    "    # with zeros\n",
    "    elif (curr_file != next_file) and (itr == 1):\n",
    "        X_list.append(X_arr[i])\n",
    "        y_list.append(y_arr[i])\n",
    "\n",
    "    # same bird recording\n",
    "    else:\n",
    "        X_list.append(X_arr[i])\n",
    "        y_list.append(y_arr[i])\n",
    "        # save the sequence\n",
    "        # and restart the process\n",
    "        if itr == seq_len:\n",
    "            X_fill.append(X_list)\n",
    "            y_fill.append(y_list)\n",
    "            itr = 0\n",
    "            X_list = []\n",
    "            y_list = []\n",
    "    curr_file = next_file\n",
    "\n",
    "# the final sequence\n",
    "seq_diff = seq_len - itr\n",
    "# the last obs. completed a sequence\n",
    "if itr == 0:\n",
    "    pass\n",
    "# the last obs. did not complete a sequence\n",
    "# fill the rest of the sequence with zeros\n",
    "elif seq_diff > 0:\n",
    "    for _ in range(seq_diff):\n",
    "        X_list.append(np.zeros((n_mels, window_size), dtype=np.float16))\n",
    "        y_list.append(np.int16(0))\n",
    "    X_fill.append(X_list)\n",
    "    y_fill.append(y_list)\n",
    "else:\n",
    "    raise ValueError(\"This should not happen\")\n",
    "\n",
    "assert len(X_fill) == len(y_fill), f\"X_fill: {len(X_fill)}, y_fill: {len(y_fill)}\"\n",
    "\n",
    "X_fill = np.array(X_fill, dtype=np.float16)\n",
    "y_fill = np.array(y_fill, dtype=np.uint16)\n",
    "\n",
    "X_rnn = torch.from_numpy(X_fill)\n",
    "y_rnn = torch.from_numpy(y_fill)\n",
    "\n",
    "print(f\"X_rnn shape: {X_rnn.shape}\")\n",
    "print(f\"y_rnn shape: {y_rnn.shape}\")\n",
    "\n",
    "# save the tensors\n",
    "torch.save(X_rnn, X_target)\n",
    "torch.save(y_rnn, y_target)"
   ]
  }
 ],
 "metadata": {
  "kernelspec": {
   "display_name": "birdclef",
   "language": "python",
   "name": "python3"
  },
  "language_info": {
   "codemirror_mode": {
    "name": "ipython",
    "version": 3
   },
   "file_extension": ".py",
   "mimetype": "text/x-python",
   "name": "python",
   "nbconvert_exporter": "python",
   "pygments_lexer": "ipython3",
   "version": "3.12.10"
  }
 },
 "nbformat": 4,
 "nbformat_minor": 5
}
