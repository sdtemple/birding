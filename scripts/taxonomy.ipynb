{
 "cells": [
  {
   "cell_type": "markdown",
   "id": "507c44b2",
   "metadata": {},
   "source": [
    "## This file ensures we have a few representatives for each Order"
   ]
  },
  {
   "cell_type": "code",
   "execution_count": null,
   "id": "f4771a48",
   "metadata": {
    "tags": [
     "parameters"
    ]
   },
   "outputs": [],
   "source": [
    "params_file = None\n",
    "input_file = None\n",
    "output_file = None\n",
    "common_file = None\n",
    "geography_file = None"
   ]
  },
  {
   "cell_type": "code",
   "execution_count": null,
   "id": "2aff341b",
   "metadata": {},
   "outputs": [],
   "source": [
    "import pandas as pd\n",
    "import numpy as np\n",
    "pd.options.mode.chained_assignment = None"
   ]
  },
  {
   "cell_type": "code",
   "execution_count": null,
   "id": "7d8f21ab",
   "metadata": {},
   "outputs": [],
   "source": [
    "import json\n",
    "with open(params_file) as json_file:\n",
    "    data = json.load(json_file)\n",
    "min_count = int(data['taxonomy']['min_count_species'])\n",
    "max_add = int(data['taxonomy']['max_add_species'])\n",
    "taxo_file = data['taxonomy']['file']\n"
   ]
  },
  {
   "cell_type": "code",
   "execution_count": null,
   "id": "38e86494",
   "metadata": {},
   "outputs": [
    {
     "data": {
      "text/plain": [
       "Index(['TAXON_ORDER', 'CATEGORY', 'SPECIES_CODE', 'PRIMARY_COM_NAME',\n",
       "       'SCI_NAME', 'ORDER1', 'FAMILY', 'SPECIES_GROUP', 'REPORT_AS'],\n",
       "      dtype='object')"
      ]
     },
     "execution_count": 62,
     "metadata": {},
     "output_type": "execute_result"
    }
   ],
   "source": [
    "table = pd.read_csv(taxo_file)\n",
    "table.columns"
   ]
  },
  {
   "cell_type": "code",
   "execution_count": null,
   "id": "dcea4b1a",
   "metadata": {},
   "outputs": [
    {
     "data": {
      "text/plain": [
       "Index(['primary_label', 'secondary_labels', 'type', 'latitude', 'longitude',\n",
       "       'scientific_name', 'common_name', 'author', 'license', 'rating', 'time',\n",
       "       'url', 'filename', 'hour_str', 'hour_int', 'minute_str', 'minute_int',\n",
       "       'order', 'family'],\n",
       "      dtype='object')"
      ]
     },
     "execution_count": 63,
     "metadata": {},
     "output_type": "execute_result"
    }
   ],
   "source": [
    "meta = pd.read_csv(input_file)\n",
    "order_table = table[['SPECIES_CODE', 'ORDER1','FAMILY']].drop_duplicates()\n",
    "order_table.columns = ['primary_label','order','family']\n",
    "meta = meta.merge(order_table, on='primary_label', how='left')\n",
    "meta.columns"
   ]
  },
  {
   "cell_type": "code",
   "execution_count": null,
   "id": "4df03869",
   "metadata": {},
   "outputs": [
    {
     "data": {
      "text/plain": [
       "array(['commyn', 'rocpig', 'sander', 'norpin', 'nutman', 'merlin',\n",
       "       'yefcan', 'warwhe1', 'parjae', 'chukar', 'wetshe'], dtype='<U7')"
      ]
     },
     "execution_count": 72,
     "metadata": {},
     "output_type": "execute_result"
    }
   ],
   "source": [
    "geo = np.loadtxt(geography_file,dtype=str)\n",
    "top_n = np.loadtxt(common_file,dtype=str)"
   ]
  },
  {
   "cell_type": "code",
   "execution_count": null,
   "id": "c2fbe2a1",
   "metadata": {},
   "outputs": [
    {
     "name": "stdout",
     "output_type": "stream",
     "text": [
      "Passeriformes ['apapan' 'commyn' 'comwax' 'houfin' 'houspa' 'jabwar' 'norcar' 'normoc'\n",
      " 'nutman' 'omao' 'saffin' 'skylar' 'towsol' 'warwhe1' 'wesmea' 'yefcan']\n",
      "Charadriiformes ['arcter' 'bkbplo' 'bknsti' 'bongul' 'caster1' 'comsan' 'dunlin' 'glwgul'\n",
      " 'laugul' 'leasan' 'leater1' 'lesyel' 'lotjae' 'parjae' 'redpha1' 'rudtur'\n",
      " 'sander' 'wessan']\n",
      "Anseriformes ['brant' 'buwtea' 'cangoo' 'eurwig' 'gadwal' 'gnwtea' 'gwfgoo' 'mallar3'\n",
      " 'norpin']\n",
      "Galliformes ['calqua' 'chukar' 'compea' 'gamqua' 'rinphe']\n",
      "Strigiformes ['brnowl' 'sheowl']\n",
      "Columbiformes ['moudov' 'rocpig' 'spodov' 'zebdov']\n",
      "Pelecaniformes ['bcnher']\n",
      "Gruiformes ['comgal1' 'sora']\n",
      "Psittaciformes ['rempar' 'rorpar']\n",
      "Accipitriformes ['osprey']\n",
      "Coraciiformes ['belkin1']\n",
      "Falconiformes ['merlin']\n",
      "Suliformes ['grefri' 'masboo']\n",
      "Procellariiformes ['wetshe']\n"
     ]
    }
   ],
   "source": [
    "# check the number of selected species in each order \n",
    "already = meta[meta['primary_label'].isin(np.concatenate([geo, top_n]))]\n",
    "al = already['order'].value_counts().index.to_list()\n",
    "few_order = []\n",
    "for a in al:\n",
    "    sub = already[already['order'] == a]\n",
    "    print(a, sub['primary_label'].unique())\n",
    "    # determine when order has few representatives\n",
    "    if sub['primary_label'].nunique() < max_add:\n",
    "        few_order.append(a)"
   ]
  },
  {
   "cell_type": "code",
   "execution_count": null,
   "id": "5efa1be7",
   "metadata": {},
   "outputs": [
    {
     "data": {
      "text/plain": [
       "['Podicipediformes', 'Phaethontiformes', 'Pterocliformes']"
      ]
     },
     "execution_count": 74,
     "metadata": {},
     "output_type": "execute_result"
    }
   ],
   "source": [
    "# look at orders with no selected species\n",
    "the_orders = meta['order'].value_counts().index.to_list()\n",
    "the_not_orders = [o for o in the_orders if o not in al]\n",
    "the_not_orders"
   ]
  },
  {
   "cell_type": "code",
   "execution_count": 81,
   "id": "ce62e60e",
   "metadata": {},
   "outputs": [
    {
     "data": {
      "text/plain": [
       "['pibgre', 'rettro', 'whttro', 'chbsan']"
      ]
     },
     "execution_count": 81,
     "metadata": {},
     "output_type": "execute_result"
    }
   ],
   "source": [
    "\n",
    "# contribute some species from orders with no representatives\n",
    "add_orders = []\n",
    "for o in the_not_orders:\n",
    "    sub = meta[meta['order'] == o]\n",
    "    thr = sub['primary_label'].value_counts() > min_count\n",
    "    arr = np.array(sub['primary_label'].value_counts().index.to_list())[thr]\n",
    "    arr = arr.tolist()\n",
    "    try:\n",
    "        add_orders += arr[:max_add]\n",
    "    except:\n",
    "        add_orders += arr\n",
    "add_orders\n"
   ]
  },
  {
   "cell_type": "code",
   "execution_count": null,
   "id": "b0d5bacf",
   "metadata": {},
   "outputs": [
    {
     "name": "stdout",
     "output_type": "stream",
     "text": [
      "Strigiformes []\n",
      "Pelecaniformes ['categr', 'grbher3', 'whfibi']\n",
      "Gruiformes ['hawcoo']\n",
      "Psittaciformes ['mitpar', 'peflov', 'burpar']\n",
      "Accipitriformes ['norhar2']\n",
      "Coraciiformes []\n",
      "Falconiformes ['perfal']\n",
      "Suliformes ['refboo', 'brnboo']\n",
      "Procellariiformes ['madpet', 'magpet1']\n"
     ]
    }
   ],
   "source": [
    "# contribute additional species from orders with few representatives\n",
    "supp_orders = []\n",
    "not_already = meta[~meta['primary_label'].isin(np.concatenate([geo, top_n]))]\n",
    "for o in few_order:\n",
    "    sub = not_already[not_already['order'] == o]\n",
    "    thr = sub['primary_label'].value_counts() > min_count\n",
    "    arr = np.array(sub['primary_label'].value_counts().index.to_list())[thr]\n",
    "    arr = arr.tolist()\n",
    "    print(o,arr)\n",
    "    try:\n",
    "        supp_orders += arr[:max_add]\n",
    "    except:\n",
    "        supp_orders += arr"
   ]
  },
  {
   "cell_type": "code",
   "execution_count": null,
   "metadata": {},
   "outputs": [],
   "source": [
    "with open(output_file,'w') as f:\n",
    "    for pl in add_orders:\n",
    "        f.write(pl + '\\n')\n",
    "    for pl in supp_orders:\n",
    "        f.write(pl + '\\n')"
   ]
  }
 ],
 "metadata": {
  "kernelspec": {
   "display_name": "whitesalmon",
   "language": "python",
   "name": "python3"
  },
  "language_info": {
   "codemirror_mode": {
    "name": "ipython",
    "version": 3
   },
   "file_extension": ".py",
   "mimetype": "text/x-python",
   "name": "python",
   "nbconvert_exporter": "python",
   "pygments_lexer": "ipython3",
   "version": "3.12.9"
  }
 },
 "nbformat": 4,
 "nbformat_minor": 5
}
