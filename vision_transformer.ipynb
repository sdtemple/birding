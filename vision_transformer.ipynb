{
 "cells": [
  {
   "cell_type": "markdown",
   "id": "95625a28-2a7c-44d1-afce-3b67c0d06100",
   "metadata": {},
   "source": [
    "# Train Vision Transformer for a single audio time slice\n",
    "\n",
    "We make raw code blocks for more user functionality. Convert these to code blocks, thereby making custom models outside the scope of the command line interface."
   ]
  },
  {
   "cell_type": "markdown",
   "id": "506e7cab-55e1-41ce-a967-655e1ffc1595",
   "metadata": {},
   "source": [
    "### Non-CLI blocks"
   ]
  },
  {
   "cell_type": "code",
   "execution_count": 27,
   "id": "85ba1f24-e3da-4ee2-a06d-0ea2f40f2a5f",
   "metadata": {},
   "outputs": [],
   "source": [
    "feature_file = 'dbr/mel.npy'\n",
    "target_file = 'dbr/y.npy'\n",
    "model_file = 'test_vit.pth'\n",
    "test_size = 0.2\n",
    "batch_size = 100\n",
    "lr = 1e-4\n",
    "random_state = 42\n",
    "num_epochs = 100\n",
    "optimize = 'adam'"
   ]
  },
  {
   "cell_type": "code",
   "execution_count": 1,
   "id": "f4798cd8-b5a8-45b2-8d91-aae3c85967ac",
   "metadata": {},
   "outputs": [],
   "source": [
    "patch_x = 16\n",
    "patch_y = 32\n",
    "hidden_size = 12\n",
    "num_hidden_layers = 2\n",
    "num_attention_heads = 6\n",
    "intermediate_size = 12\n",
    "hidden_dropout_prob = 0.1\n",
    "attention_probs_dropout_prob = 0.1"
   ]
  },
  {
   "cell_type": "markdown",
   "id": "e2672222-8fcc-4378-9a49-a2f209e38638",
   "metadata": {},
   "source": [
    "### Papermill blocks"
   ]
  },
  {
   "cell_type": "code",
   "execution_count": null,
   "id": "57f0afcc-200c-474f-9719-2ea689208b10",
   "metadata": {
    "editable": true,
    "slideshow": {
     "slide_type": ""
    },
    "tags": [
     "parameters"
    ]
   },
   "outputs": [],
   "source": [
    "# Parameters\n",
    "\n",
    "yaml_file = None\n",
    "feature_file = None\n",
    "target_file = None\n",
    "model_file = None\n",
    "\n",
    "patch_x = None\n",
    "patch_y = None\n",
    "hidden_size = None\n",
    "num_hidden_layers = None\n",
    "num_attention_heads = None\n",
    "intermediate_size = None\n",
    "hidden_dropout_prob = None\n",
    "attention_probs_dropout_prob = None\n",
    "\n",
    "test_size = None\n",
    "lr = None\n",
    "num_epochs = None\n",
    "batch_size = None\n",
    "random_state = None\n",
    "optimize = None"
   ]
  },
  {
   "cell_type": "code",
   "execution_count": null,
   "id": "46a24abc-1c6f-43ae-b700-d11977cd715d",
   "metadata": {},
   "outputs": [],
   "source": [
    "import yaml\n",
    "if yaml_file is None:\n",
    "    pass\n",
    "else:\n",
    "    # yaml_file argument overwrites\n",
    "    with open(yaml_file, 'r') as f:\n",
    "        data = yaml.safe_load(f)\n",
    "\n",
    "    # files\n",
    "    feature_file = data['feature_file']\n",
    "    target_file = data['target_file']\n",
    "    model_file = data['model_file']\n",
    "\n",
    "    # architecture\n",
    "    patch_x = data['patch_x']\n",
    "    patch_y = data['patch_y']\n",
    "    hidden_size = data['hidden_size']\n",
    "    num_hidden_layers = data['num_hidden_layers']\n",
    "    num_attention_heads = data['num_attention_heads']\n",
    "    intermediate_size = data['intermediate_size']\n",
    "    hidden_dropout_prob = data['hidden_dropout_prob']\n",
    "    attention_probs_dropout_prob = data['attention_probs_dropout_prob']\n",
    "\n",
    "    # training\n",
    "    test_size = data['test_size']\n",
    "    lr = data['lr']\n",
    "    num_epochs = data['num_epochs']\n",
    "    batch_size = data['batch_size']\n",
    "    random_state = data['random_state']\n",
    "    optimize = data['optimize']"
   ]
  },
  {
   "cell_type": "code",
   "execution_count": 2,
   "id": "e3662d23-e724-4d4a-a6c5-feda7c066a01",
   "metadata": {},
   "outputs": [],
   "source": [
    "# Type enforcing\n",
    "patch_x = int(patch_x)\n",
    "patch_y = int(patch_y)\n",
    "hidden_size = int(hidden_size)\n",
    "num_hidden_layers = int(num_hidden_layers)\n",
    "num_attention_heads = int(num_attention_heads)\n",
    "intermediate_size = int(intermediate_size)\n",
    "hidden_dropout_prob = float(hidden_dropout_prob)\n",
    "attention_probs_dropout_prob = float(attention_probs_dropout_prob)"
   ]
  },
  {
   "cell_type": "markdown",
   "id": "e5374ffe-2903-40a9-8576-e01702aab94f",
   "metadata": {},
   "source": [
    "### Imports"
   ]
  },
  {
   "cell_type": "code",
   "execution_count": 7,
   "id": "201bd082-3b90-424c-a2a2-c011d218efae",
   "metadata": {},
   "outputs": [],
   "source": [
    "# array data manipulation and plotting\n",
    "import numpy as np\n",
    "import matplotlib.pyplot as plt\n",
    "import seaborn as sns\n",
    "\n",
    "# deep learning\n",
    "import torch\n",
    "import torch.nn as nn\n",
    "import torch.nn.functional as F\n",
    "import torch.optim as optim\n",
    "from torch.utils.data import DataLoader, TensorDataset\n",
    "from transformers import ViTConfig, ViTForImageClassification\n",
    "\n",
    "# machine learning\n",
    "from sklearn.preprocessing import LabelEncoder\n",
    "from sklearn.model_selection import train_test_split\n",
    "from sklearn.metrics import classification_report, \\\n",
    "    accuracy_score, \\\n",
    "    f1_score, \\\n",
    "    auc, \\\n",
    "    recall_score, \\\n",
    "    precision_score, \\\n",
    "    precision_recall_curve, \\\n",
    "    roc_curve\n",
    "from sklearn.metrics import confusion_matrix"
   ]
  },
  {
   "cell_type": "markdown",
   "id": "6486eac3-212f-4d47-92a9-aea0fcb01040",
   "metadata": {},
   "source": [
    "### Load data"
   ]
  },
  {
   "cell_type": "code",
   "execution_count": 8,
   "id": "d59036f9-326d-46b2-8547-33ff69c5f9bb",
   "metadata": {},
   "outputs": [],
   "source": [
    "X = np.load(feature_file)\n",
    "y = np.load(target_file)\n",
    "\n",
    "# Encode labels and split the dataset\n",
    "le = LabelEncoder()\n",
    "y_encoded = le.fit_transform(y)\n",
    "\n",
    "# Split the data into training and testing sets\n",
    "y_tensor = torch.tensor(y_encoded, dtype=torch.long)\n",
    "X_tensor = torch.tensor(X, dtype=torch.float32).unsqueeze(1)\n",
    "X_train, X_test, y_train, y_test = train_test_split(\n",
    "    X_tensor, y_tensor, test_size=test_size, stratify=y_tensor, random_state=random_state\n",
    ")\n",
    "\n",
    "batch_size = batch_size\n",
    "train_data = TensorDataset(X_train, y_train)\n",
    "test_data = TensorDataset(X_test, y_test)\n",
    "train_loader = DataLoader(train_data, batch_size=batch_size, shuffle=True)\n",
    "test_loader = DataLoader(test_data, batch_size=batch_size, shuffle=False)"
   ]
  },
  {
   "cell_type": "markdown",
   "id": "2c3f330b-a7e3-4492-9440-25f9e6919625",
   "metadata": {},
   "source": [
    "### Set up GPU device"
   ]
  },
  {
   "cell_type": "code",
   "execution_count": 9,
   "id": "7ea1d969-4662-433c-b161-19d550f570fa",
   "metadata": {},
   "outputs": [
    {
     "name": "stdout",
     "output_type": "stream",
     "text": [
      "Tue Jun 24 10:13:23 2025       \n",
      "+-----------------------------------------------------------------------------------------+\n",
      "| NVIDIA-SMI 570.124.06             Driver Version: 570.124.06     CUDA Version: 12.8     |\n",
      "|-----------------------------------------+------------------------+----------------------+\n",
      "| GPU  Name                 Persistence-M | Bus-Id          Disp.A | Volatile Uncorr. ECC |\n",
      "| Fan  Temp   Perf          Pwr:Usage/Cap |           Memory-Usage | GPU-Util  Compute M. |\n",
      "|                                         |                        |               MIG M. |\n",
      "|=========================================+========================+======================|\n",
      "|   0  Tesla V100-PCIE-16GB           On  |   00000000:3B:00.0 Off |                    0 |\n",
      "| N/A   31C    P0             25W /  250W |       1MiB /  16384MiB |      0%   E. Process |\n",
      "|                                         |                        |                  N/A |\n",
      "+-----------------------------------------+------------------------+----------------------+\n",
      "                                                                                         \n",
      "+-----------------------------------------------------------------------------------------+\n",
      "| Processes:                                                                              |\n",
      "|  GPU   GI   CI              PID   Type   Process name                        GPU Memory |\n",
      "|        ID   ID                                                               Usage      |\n",
      "|=========================================================================================|\n",
      "|  No running processes found                                                             |\n",
      "+-----------------------------------------------------------------------------------------+\n"
     ]
    }
   ],
   "source": [
    "!nvidia-smi"
   ]
  },
  {
   "cell_type": "code",
   "execution_count": 10,
   "id": "dd870080-0cfc-4601-9b11-7b38885b5f90",
   "metadata": {},
   "outputs": [
    {
     "name": "stdout",
     "output_type": "stream",
     "text": [
      "cuda\n"
     ]
    }
   ],
   "source": [
    "device = torch.device(\"cuda\" if torch.cuda.is_available() else \"cpu\")\n",
    "print(device)"
   ]
  },
  {
   "cell_type": "markdown",
   "id": "b865ea08-d1b7-4191-8bb0-4a78e9f24ab9",
   "metadata": {},
   "source": [
    "### Set up model"
   ]
  },
  {
   "cell_type": "code",
   "execution_count": 28,
   "id": "5e942f8e-66a6-4d9b-909d-92f72bcf5a08",
   "metadata": {},
   "outputs": [
    {
     "data": {
      "text/plain": [
       "ViTForImageClassification(\n",
       "  (vit): ViTModel(\n",
       "    (embeddings): ViTEmbeddings(\n",
       "      (patch_embeddings): ViTPatchEmbeddings(\n",
       "        (projection): Conv2d(1, 12, kernel_size=(16, 32), stride=(16, 32))\n",
       "      )\n",
       "      (dropout): Dropout(p=0.1, inplace=False)\n",
       "    )\n",
       "    (encoder): ViTEncoder(\n",
       "      (layer): ModuleList(\n",
       "        (0-1): 2 x ViTLayer(\n",
       "          (attention): ViTAttention(\n",
       "            (attention): ViTSelfAttention(\n",
       "              (query): Linear(in_features=12, out_features=12, bias=True)\n",
       "              (key): Linear(in_features=12, out_features=12, bias=True)\n",
       "              (value): Linear(in_features=12, out_features=12, bias=True)\n",
       "            )\n",
       "            (output): ViTSelfOutput(\n",
       "              (dense): Linear(in_features=12, out_features=12, bias=True)\n",
       "              (dropout): Dropout(p=0.1, inplace=False)\n",
       "            )\n",
       "          )\n",
       "          (intermediate): ViTIntermediate(\n",
       "            (dense): Linear(in_features=12, out_features=12, bias=True)\n",
       "            (intermediate_act_fn): GELUActivation()\n",
       "          )\n",
       "          (output): ViTOutput(\n",
       "            (dense): Linear(in_features=12, out_features=12, bias=True)\n",
       "            (dropout): Dropout(p=0.1, inplace=False)\n",
       "          )\n",
       "          (layernorm_before): LayerNorm((12,), eps=1e-12, elementwise_affine=True)\n",
       "          (layernorm_after): LayerNorm((12,), eps=1e-12, elementwise_affine=True)\n",
       "        )\n",
       "      )\n",
       "    )\n",
       "    (layernorm): LayerNorm((12,), eps=1e-12, elementwise_affine=True)\n",
       "  )\n",
       "  (classifier): Linear(in_features=12, out_features=3, bias=True)\n",
       ")"
      ]
     },
     "execution_count": 28,
     "metadata": {},
     "output_type": "execute_result"
    }
   ],
   "source": [
    "config = ViTConfig(\n",
    "    image_size=(X[0].shape[0],X[0].shape[1]),\n",
    "    patch_size=(patch_x,patch_y),\n",
    "    num_channels=1,  # Adjust for your input data (e.g., 1 for grayscale, 3 for RGB)\n",
    "    hidden_size=hidden_size,\n",
    "    num_hidden_layers=num_hidden_layers,\n",
    "    num_attention_heads=num_attention_heads,\n",
    "    intermediate_size=intermediate_size,\n",
    "    hidden_dropout_prob=hidden_dropout_prob,\n",
    "    attention_probs_dropout_prob=attention_probs_dropout_prob,\n",
    "    num_labels=len(np.unique(y_encoded)),\n",
    ")\n",
    "model = ViTForImageClassification(config)\n",
    "\n",
    "# criterion choice\n",
    "criterion = torch.nn.CrossEntropyLoss()\n",
    "\n",
    "# optimizer logic\n",
    "if optimize == 'adam':\n",
    "    optimizer = torch.optim.Adam(model.parameters(), lr=lr)\n",
    "elif optimize == 'sgd':\n",
    "    optimizer = torch.optim.SGD(model.parameters(), lr=lr)\n",
    "elif optimize == 'rmsprop':\n",
    "    optimizer = torch.optim.RMSprop(model.parameters(), lr=lr)\n",
    "else:\n",
    "    raise ValueError(\"Optimizer input is adam, sgd, or rmsprop\")    \n",
    "\n",
    "model"
   ]
  },
  {
   "cell_type": "markdown",
   "id": "30bd0f3c-436d-4a9c-bd5d-3a6dc726dcf7",
   "metadata": {},
   "source": [
    "### Train the model"
   ]
  },
  {
   "cell_type": "code",
   "execution_count": 30,
   "id": "cbec8ad3-cf17-4eb6-831b-5abcadcb9b7a",
   "metadata": {},
   "outputs": [
    {
     "name": "stdout",
     "output_type": "stream",
     "text": [
      "Epoch 1/100, Loss: 1.0793\n",
      "Epoch 2/100, Loss: 1.0659\n",
      "Epoch 3/100, Loss: 1.0491\n",
      "Epoch 4/100, Loss: 1.0054\n",
      "Epoch 5/100, Loss: 0.9546\n",
      "Epoch 6/100, Loss: 0.9090\n",
      "Epoch 7/100, Loss: 0.8765\n",
      "Epoch 8/100, Loss: 0.8468\n",
      "Epoch 9/100, Loss: 0.8172\n",
      "Epoch 10/100, Loss: 0.7997\n",
      "Epoch 11/100, Loss: 0.7760\n",
      "Epoch 12/100, Loss: 0.7493\n",
      "Epoch 13/100, Loss: 0.7259\n",
      "Epoch 14/100, Loss: 0.7112\n",
      "Epoch 15/100, Loss: 0.6932\n",
      "Epoch 16/100, Loss: 0.6710\n",
      "Epoch 17/100, Loss: 0.6526\n",
      "Epoch 18/100, Loss: 0.6340\n",
      "Epoch 19/100, Loss: 0.6228\n",
      "Epoch 20/100, Loss: 0.6109\n",
      "Epoch 21/100, Loss: 0.5897\n",
      "Epoch 22/100, Loss: 0.5799\n",
      "Epoch 23/100, Loss: 0.5681\n",
      "Epoch 24/100, Loss: 0.5564\n",
      "Epoch 25/100, Loss: 0.5354\n",
      "Epoch 26/100, Loss: 0.5305\n",
      "Epoch 27/100, Loss: 0.5197\n",
      "Epoch 28/100, Loss: 0.4954\n",
      "Epoch 29/100, Loss: 0.4921\n",
      "Epoch 30/100, Loss: 0.4763\n",
      "Epoch 31/100, Loss: 0.4780\n",
      "Epoch 32/100, Loss: 0.4699\n",
      "Epoch 33/100, Loss: 0.4451\n",
      "Epoch 34/100, Loss: 0.4508\n",
      "Epoch 35/100, Loss: 0.4250\n",
      "Epoch 36/100, Loss: 0.4177\n",
      "Epoch 37/100, Loss: 0.4092\n",
      "Epoch 38/100, Loss: 0.4077\n",
      "Epoch 39/100, Loss: 0.4047\n",
      "Epoch 40/100, Loss: 0.3875\n",
      "Epoch 41/100, Loss: 0.3788\n",
      "Epoch 42/100, Loss: 0.3688\n",
      "Epoch 43/100, Loss: 0.3786\n",
      "Epoch 44/100, Loss: 0.3551\n",
      "Epoch 45/100, Loss: 0.3383\n",
      "Epoch 46/100, Loss: 0.3440\n",
      "Epoch 47/100, Loss: 0.3476\n",
      "Epoch 48/100, Loss: 0.3378\n",
      "Epoch 49/100, Loss: 0.3329\n",
      "Epoch 50/100, Loss: 0.3107\n",
      "Epoch 51/100, Loss: 0.3165\n",
      "Epoch 52/100, Loss: 0.3028\n",
      "Epoch 53/100, Loss: 0.3085\n",
      "Epoch 54/100, Loss: 0.2971\n",
      "Epoch 55/100, Loss: 0.2826\n",
      "Epoch 56/100, Loss: 0.2866\n",
      "Epoch 57/100, Loss: 0.2741\n",
      "Epoch 58/100, Loss: 0.2723\n",
      "Epoch 59/100, Loss: 0.2793\n",
      "Epoch 60/100, Loss: 0.2711\n",
      "Epoch 61/100, Loss: 0.2595\n",
      "Epoch 62/100, Loss: 0.2619\n",
      "Epoch 63/100, Loss: 0.2595\n",
      "Epoch 64/100, Loss: 0.2584\n",
      "Epoch 65/100, Loss: 0.2573\n",
      "Epoch 66/100, Loss: 0.2389\n",
      "Epoch 67/100, Loss: 0.2565\n",
      "Epoch 68/100, Loss: 0.2299\n",
      "Epoch 69/100, Loss: 0.2305\n",
      "Epoch 70/100, Loss: 0.2495\n",
      "Epoch 71/100, Loss: 0.2238\n",
      "Epoch 72/100, Loss: 0.2235\n",
      "Epoch 73/100, Loss: 0.2264\n",
      "Epoch 74/100, Loss: 0.2216\n",
      "Epoch 75/100, Loss: 0.2057\n",
      "Epoch 76/100, Loss: 0.2258\n",
      "Epoch 77/100, Loss: 0.2401\n",
      "Epoch 78/100, Loss: 0.2384\n",
      "Epoch 79/100, Loss: 0.2143\n",
      "Epoch 80/100, Loss: 0.1976\n",
      "Epoch 81/100, Loss: 0.2053\n",
      "Epoch 82/100, Loss: 0.1951\n",
      "Epoch 83/100, Loss: 0.1947\n",
      "Epoch 84/100, Loss: 0.1955\n",
      "Epoch 85/100, Loss: 0.2070\n",
      "Epoch 86/100, Loss: 0.2087\n",
      "Epoch 87/100, Loss: 0.1840\n",
      "Epoch 88/100, Loss: 0.1796\n",
      "Epoch 89/100, Loss: 0.1857\n",
      "Epoch 90/100, Loss: 0.1768\n",
      "Epoch 91/100, Loss: 0.1759\n",
      "Epoch 92/100, Loss: 0.1840\n",
      "Epoch 93/100, Loss: 0.1657\n",
      "Epoch 94/100, Loss: 0.1719\n",
      "Epoch 95/100, Loss: 0.1852\n",
      "Epoch 96/100, Loss: 0.1827\n",
      "Epoch 97/100, Loss: 0.1735\n",
      "Epoch 98/100, Loss: 0.1693\n",
      "Epoch 99/100, Loss: 0.1592\n",
      "Epoch 100/100, Loss: 0.1798\n"
     ]
    }
   ],
   "source": [
    "# Training loop\n",
    "\n",
    "model.to(device)\n",
    "\n",
    "for epoch in range(num_epochs):\n",
    "    model.train()  # Set the model to training mode\n",
    "    running_loss = 0.0\n",
    "\n",
    "    for inputs, labels in train_loader:\n",
    "\n",
    "        # Zero the parameter gradients\n",
    "        optimizer.zero_grad()\n",
    "\n",
    "        # Pass to GPU\n",
    "        inputs = inputs.to(device)\n",
    "        labels = labels.to(device)\n",
    "\n",
    "        # Forward pass\n",
    "        outputs = model(inputs)\n",
    "\n",
    "        # Compute the loss\n",
    "        loss = criterion(outputs.logits, labels)\n",
    "\n",
    "        # Backward pass and optimization\n",
    "        loss.backward()\n",
    "        optimizer.step()\n",
    "\n",
    "        # Accumulate the loss\n",
    "        running_loss += loss.item()\n",
    "\n",
    "    # Print the average loss for this epoch\n",
    "    print(f\"Epoch {epoch + 1}/{num_epochs}, Loss: {running_loss / len(train_loader):.4f}\")"
   ]
  },
  {
   "cell_type": "code",
   "execution_count": 31,
   "id": "bc4bd8cc-fb7f-4295-8823-5ddf010ee35f",
   "metadata": {},
   "outputs": [],
   "source": [
    "torch.save(model, model_file)"
   ]
  },
  {
   "cell_type": "markdown",
   "id": "12e1129b-53dd-4991-9746-778376b99e15",
   "metadata": {},
   "source": [
    "### Evaluate the model"
   ]
  },
  {
   "cell_type": "code",
   "execution_count": null,
   "id": "3128baca-0779-4b70-98cc-458e3768ee95",
   "metadata": {},
   "outputs": [],
   "source": [
    "model = torch.load(model_file, weights_only=False)"
   ]
  },
  {
   "cell_type": "code",
   "execution_count": 37,
   "id": "107bed53-6d12-47d9-91c9-7b57445a22fc",
   "metadata": {},
   "outputs": [
    {
     "name": "stdout",
     "output_type": "stream",
     "text": [
      "Validation Accuracy: 0.9566\n",
      "              precision    recall  f1-score   support\n",
      "\n",
      "        bird       0.97      0.96      0.96       329\n",
      "         dog       0.97      0.95      0.96       266\n",
      "        rain       0.91      0.96      0.94       142\n",
      "\n",
      "    accuracy                           0.96       737\n",
      "   macro avg       0.95      0.96      0.95       737\n",
      "weighted avg       0.96      0.96      0.96       737\n",
      "\n"
     ]
    }
   ],
   "source": [
    "model.to(device)\n",
    "\n",
    "model.eval()\n",
    "all_preds = []\n",
    "all_labels = []\n",
    "\n",
    "with torch.no_grad():\n",
    "    for inputs, labels in test_loader:\n",
    "        inputs = inputs.to(device)\n",
    "        outputs = model(inputs)\n",
    "        logits = outputs.logits.cpu().numpy()\n",
    "        preds = np.argmax(logits, axis=1)\n",
    "        all_preds.extend(preds)\n",
    "        all_labels.extend(labels.cpu().numpy())\n",
    "\n",
    "# Calculate accuracy\n",
    "accuracy = accuracy_score(all_labels, all_preds)\n",
    "print(f\"Validation Accuracy: {accuracy:.4f}\")\n",
    "\n",
    "# Print classification report\n",
    "print(classification_report(all_labels, all_preds, target_names=le.classes_))"
   ]
  },
  {
   "cell_type": "code",
   "execution_count": 38,
   "id": "2d19473b-27dd-451d-8337-209c06fed200",
   "metadata": {},
   "outputs": [
    {
     "data": {
      "image/png": "[encoded data removed]",
      "text/plain": [
       "<Figure size 600x500 with 2 Axes>"
      ]
     },
     "metadata": {},
     "output_type": "display_data"
    }
   ],
   "source": [
    "cm = confusion_matrix(all_labels, all_preds)\n",
    "plt.figure(figsize=(6, 5))\n",
    "sns.heatmap(cm, annot=True, fmt='d', cmap='Blues', xticklabels=le.classes_, yticklabels=le.classes_)\n",
    "plt.xlabel('Predicted')\n",
    "plt.ylabel('True')\n",
    "plt.title('Confusion Matrix')\n",
    "plt.show()"
   ]
  },
  {
   "cell_type": "code",
   "execution_count": null,
   "id": "92c4bf38-1c3e-4c5a-8733-8bc02af798e6",
   "metadata": {},
   "outputs": [],
   "source": [
    "# add some save of evaluation"
   ]
  }
 ],
 "metadata": {
  "kernelspec": {
   "display_name": "Birdclef",
   "language": "python",
   "name": "birdclef"
  },
  "language_info": {
   "codemirror_mode": {
    "name": "ipython",
    "version": 3
   },
   "file_extension": ".py",
   "mimetype": "text/x-python",
   "name": "python",
   "nbconvert_exporter": "python",
   "pygments_lexer": "ipython3",
   "version": "3.12.11"
  }
 },
 "nbformat": 4,
 "nbformat_minor": 5
}
