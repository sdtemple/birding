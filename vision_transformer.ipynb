{
 "cells": [
  {
   "cell_type": "code",
   "execution_count": null,
   "id": "57f0afcc-200c-474f-9719-2ea689208b10",
   "metadata": {
    "editable": true,
    "slideshow": {
     "slide_type": ""
    },
    "tags": [
     "parameters"
    ]
   },
   "outputs": [],
   "source": [
    "# Parameters\n",
    "feature_file = None\n",
    "target_file = None\n",
    "model_file = None\n",
    "\n",
    "patch_x = None\n",
    "patch_y = None\n",
    "hidden_size = None\n",
    "num_hidden_layers = None\n",
    "num_attention_heads = None\n",
    "intermediate_size = None\n",
    "hidden_dropout_prob = None\n",
    "attention_probs_dropout_prob = None\n",
    "\n",
    "test_size = None\n",
    "lr = None\n",
    "num_epochs = None\n",
    "batch_size = None\n",
    "random_state = None"
   ]
  },
  {
   "cell_type": "code",
   "execution_count": null,
   "id": "e3662d23-e724-4d4a-a6c5-feda7c066a01",
   "metadata": {},
   "outputs": [],
   "source": [
    "patch_x = int(patch_x)\n",
    "patch_y = int(patch_y)\n",
    "hidden_size = int(hidden_size)\n",
    "num_hidden_layers = int(num_hidden_layers)\n",
    "num_attention_heads = int(num_attention_heads)\n",
    "intermediate_size = int(intermediate_size)\n",
    "hidden_dropout_prob = float(hidden_dropout_prob)\n",
    "attention_probs_dropout_prob = float(attention_probs_dropout_prob)"
   ]
  },
  {
   "cell_type": "code",
   "execution_count": null,
   "id": "201bd082-3b90-424c-a2a2-c011d218efae",
   "metadata": {},
   "outputs": [],
   "source": [
    "# array data manipulation and plotting\n",
    "import numpy as np\n",
    "import matplotlib.pyplot as plt\n",
    "import seaborn as sns\n",
    "\n",
    "# deep learning\n",
    "import torch\n",
    "import torch.nn as nn\n",
    "import torch.nn.functional as F\n",
    "import torch.optim as optim\n",
    "from torch.utils.data import DataLoader, TensorDataset\n",
    "from transformers import ViTConfig, ViTForImageClassification\n",
    "\n",
    "# machine learning\n",
    "from sklearn.preprocessing import LabelEncoder\n",
    "from sklearn.model_selection import train_test_split\n",
    "from sklearn.metrics import classification_report, \\\n",
    "    accuracy_score, \\\n",
    "    f1_score, \\\n",
    "    auc, \\\n",
    "    recall_score, \\\n",
    "    precision_score, \\\n",
    "    precision_recall_curve, \\\n",
    "    roc_curve\n",
    "from sklearn.metrics import confusion_matrix"
   ]
  },
  {
   "cell_type": "code",
   "execution_count": null,
   "id": "7ea1d969-4662-433c-b161-19d550f570fa",
   "metadata": {},
   "outputs": [],
   "source": [
    "!nvidia-smi"
   ]
  },
  {
   "cell_type": "code",
   "execution_count": null,
   "id": "dd870080-0cfc-4601-9b11-7b38885b5f90",
   "metadata": {},
   "outputs": [],
   "source": [
    "device = torch.device(\"cuda\" if torch.cuda.is_available() else \"cpu\")\n",
    "print(device)"
   ]
  },
  {
   "cell_type": "code",
   "execution_count": null,
   "id": "85ba1f24-e3da-4ee2-a06d-0ea2f40f2a5f",
   "metadata": {},
   "outputs": [],
   "source": [
    "# X = np.load(feature_file)\n",
    "# y = np.load(target_file)\n",
    "\n",
    "X = np.load(\"dbr/mel.npy\")\n",
    "y = np.load(\"dbr/y.npy\")\n",
    "test_size = 0.2\n",
    "batch_size = 100\n",
    "random_state = 42\n",
    "\n",
    "# Encode labels and split the dataset\n",
    "le = LabelEncoder()\n",
    "y_encoded = le.fit_transform(y)\n",
    "\n",
    "# Split the data into training and testing sets\n",
    "y_tensor = torch.tensor(y_encoded, dtype=torch.long)\n",
    "X_tensor = torch.tensor(X, dtype=torch.float32).unsqueeze(1)\n",
    "X_train, X_test, y_train, y_test = train_test_split(\n",
    "    X_tensor, y_tensor, test_size=test_size, stratify=y_tensor, random_state=random_state\n",
    ")\n",
    "\n",
    "batch_size = batch_size\n",
    "train_data = TensorDataset(X_train, y_train)\n",
    "test_data = TensorDataset(X_test, y_test)\n",
    "train_loader = DataLoader(train_data, batch_size=batch_size, shuffle=True)\n",
    "test_loader = DataLoader(test_data, batch_size=batch_size, shuffle=False)"
   ]
  },
  {
   "cell_type": "code",
   "execution_count": null,
   "id": "8dbaa95e-fe35-4c49-b8f1-7a7987011141",
   "metadata": {},
   "outputs": [],
   "source": [
    "y_train"
   ]
  },
  {
   "cell_type": "code",
   "execution_count": null,
   "id": "5e942f8e-66a6-4d9b-909d-92f72bcf5a08",
   "metadata": {},
   "outputs": [],
   "source": [
    "config = ViTConfig(\n",
    "    image_size=(X[0].shape[0],X[0].shape[1]),\n",
    "    patch_size=(patch_x,patch_y),\n",
    "    num_channels=1,  # Adjust for your input data (e.g., 1 for grayscale, 3 for RGB)\n",
    "    hidden_size=hidden_size,\n",
    "    num_hidden_layers=num_hidden_layers,\n",
    "    num_attention_heads=num_attention_heads,\n",
    "    intermediate_size=intermediate_size,\n",
    "    hidden_dropout_prob=hidden_dropout_prob,\n",
    "    attention_probs_dropout_prob=attention_probs_dropout_prob,\n",
    "    num_labels=len(np.unique(y_encoded)),\n",
    ")\n",
    "model = ViTForImageClassification(config)"
   ]
  },
  {
   "cell_type": "code",
   "execution_count": null,
   "id": "0e382b41-8e1b-43f7-b6de-04600d609b5d",
   "metadata": {},
   "outputs": [],
   "source": [
    "criterion = torch.nn.CrossEntropyLoss()\n",
    "optimizer = torch.optim.Adam(model.parameters(), lr=1e-4)"
   ]
  },
  {
   "cell_type": "code",
   "execution_count": null,
   "id": "cbec8ad3-cf17-4eb6-831b-5abcadcb9b7a",
   "metadata": {},
   "outputs": [],
   "source": [
    "# Training loop\n",
    "\n",
    "model.to(device)\n",
    "\n",
    "for epoch in range(num_epochs):\n",
    "    model.train()  # Set the model to training mode\n",
    "    running_loss = 0.0\n",
    "\n",
    "    for inputs, labels in train_loader:\n",
    "\n",
    "        # Zero the parameter gradients\n",
    "        optimizer.zero_grad()\n",
    "\n",
    "        # Pass to GPU\n",
    "        inputs = inputs.to(device)\n",
    "        labels = labels.to(device)\n",
    "\n",
    "        # Forward pass\n",
    "        outputs = model(inputs)\n",
    "\n",
    "        # Compute the loss\n",
    "        print(outputs.logits)\n",
    "        print(labels)\n",
    "        loss = criterion(outputs.logits, labels)\n",
    "\n",
    "        # Backward pass and optimization\n",
    "        loss.backward()\n",
    "        optimizer.step()\n",
    "\n",
    "        # Accumulate the loss\n",
    "        running_loss += loss.item()\n",
    "\n",
    "    # Print the average loss for this epoch\n",
    "    print(f\"Epoch {epoch + 1}/{num_epochs}, Loss: {running_loss / len(train_loader):.4f}\")"
   ]
  },
  {
   "cell_type": "code",
   "execution_count": null,
   "id": "bc4bd8cc-fb7f-4295-8823-5ddf010ee35f",
   "metadata": {},
   "outputs": [],
   "source": [
    "torch.save(model, model_file)"
   ]
  },
  {
   "cell_type": "code",
   "execution_count": null,
   "id": "d4504e5a-7cb2-47c3-9324-28ab29aceea8",
   "metadata": {},
   "outputs": [],
   "source": [
    "model = torch.load(model_file, weights_only=False)"
   ]
  },
  {
   "cell_type": "code",
   "execution_count": null,
   "id": "107bed53-6d12-47d9-91c9-7b57445a22fc",
   "metadata": {},
   "outputs": [],
   "source": [
    "model.to(device)\n",
    "\n",
    "model.eval()\n",
    "all_preds = []\n",
    "all_labels = []\n",
    "\n",
    "with torch.no_grad():\n",
    "    for inputs, labels in test_loader:\n",
    "        inputs = inputs.to(device)\n",
    "        outputs = model(inputs)\n",
    "        preds = np.argmax(outputs.logits, axis=1)\n",
    "        all_preds.extend(preds.cpu().numpy())\n",
    "        all_labels.extend(labels.cpu().numpy())\n",
    "\n",
    "# Calculate accuracy\n",
    "accuracy = accuracy_score(all_labels, all_preds)\n",
    "print(f\"Validation Accuracy: {accuracy:.4f}\")\n",
    "\n",
    "# Print classification report\n",
    "print(classification_report(all_labels, all_preds, target_names=le.classes_))"
   ]
  },
  {
   "cell_type": "code",
   "execution_count": null,
   "id": "2d19473b-27dd-451d-8337-209c06fed200",
   "metadata": {},
   "outputs": [],
   "source": [
    "cm = confusion_matrix(all_labels, all_preds)\n",
    "plt.figure(figsize=(6, 5))\n",
    "sns.heatmap(cm, annot=True, fmt='d', cmap='Blues', xticklabels=le.classes_, yticklabels=le.classes_)\n",
    "plt.xlabel('Predicted')\n",
    "plt.ylabel('True')\n",
    "plt.title('Confusion Matrix')\n",
    "plt.show()"
   ]
  }
 ],
 "metadata": {
  "kernelspec": {
   "display_name": "Birdclef",
   "language": "python",
   "name": "birdclef"
  },
  "language_info": {
   "codemirror_mode": {
    "name": "ipython",
    "version": 3
   },
   "file_extension": ".py",
   "mimetype": "text/x-python",
   "name": "python",
   "nbconvert_exporter": "python",
   "pygments_lexer": "ipython3",
   "version": "3.12.11"
  }
 },
 "nbformat": 4,
 "nbformat_minor": 5
}
